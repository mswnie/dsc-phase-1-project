{
 "cells": [
  {
   "cell_type": "markdown",
   "metadata": {},
   "source": [
    "\n",
    "# Box Office Data Exploration and Analysis\n",
    "\n",
    "## Introduction:\n",
    "\n",
    "Microsoft is keen on moving towards the industry of creating original video content. They look to establish a studio that produces video content focused on film cinema. It is therefore paramount to explore and analyse the box office and the general public's reception towards films in regards of box office ratings and revenue. In this notebook, we shall engage in the exploration and analysis of data from reputable movie websites and idealize insights that will help direct the studio executives in the route to take in the type of filmography they should create."
   ]
  },
  {
   "cell_type": "markdown",
   "metadata": {},
   "source": [
    "## Objectives:\n",
    "\n",
    "* Identify and load datasets.\n",
    "* Study and explore box office dataset to understand the structure, characteristics and summary of the data.\n",
    "* If applicable: transform and clean the dataset appropriately to prepare it for in-depth analysis.\n",
    "* Perform statistical and exploratory analysis on box office dataset.\n",
    "* Use meaningful visualizations to portray and enhance analysis.\n",
    "* Make evaluations on the box office and give useful insights from inferred analyses."
   ]
  },
  {
   "cell_type": "markdown",
   "metadata": {},
   "source": [
    "### 1. The Data\n",
    "\n",
    "The data used in this exploratory analysis is derived from IMBD.com and Box Office Mojo. These are an online database that contains information and statistics about films and the industry. For this project we'll use the datasets from IMDB containing basic information regarding box office films, their ratings and the gross revenue the films produced."
   ]
  },
  {
   "cell_type": "markdown",
   "metadata": {},
   "source": [
    "**Loading the data:**\n",
    "\n",
    "A total of 3 datasets will be loaded as dataframes and analysed using third-party python libraries."
   ]
  },
  {
   "cell_type": "code",
   "execution_count": 35,
   "metadata": {},
   "outputs": [],
   "source": [
    "# importing the necessary libraries\n",
    "import pandas as pd\n",
    "import numpy as np\n",
    "import matplotlib.pyplot as plt\n",
    "import seaborn as sns\n",
    "%matplotlib inline"
   ]
  },
  {
   "cell_type": "markdown",
   "metadata": {},
   "source": [
    "The datasets loaded are loaded from `zippedData` are `'imdb.title.basics.csv.gz'`, `'imdb.title.ratings.csv.gz'` and `'bom.movie_gross.csv.gz'`"
   ]
  },
  {
   "cell_type": "code",
   "execution_count": 2,
   "metadata": {},
   "outputs": [
    {
     "data": {
      "text/html": [
       "<div>\n",
       "<style scoped>\n",
       "    .dataframe tbody tr th:only-of-type {\n",
       "        vertical-align: middle;\n",
       "    }\n",
       "\n",
       "    .dataframe tbody tr th {\n",
       "        vertical-align: top;\n",
       "    }\n",
       "\n",
       "    .dataframe thead th {\n",
       "        text-align: right;\n",
       "    }\n",
       "</style>\n",
       "<table border=\"1\" class=\"dataframe\">\n",
       "  <thead>\n",
       "    <tr style=\"text-align: right;\">\n",
       "      <th></th>\n",
       "      <th>tconst</th>\n",
       "      <th>primary_title</th>\n",
       "      <th>original_title</th>\n",
       "      <th>start_year</th>\n",
       "      <th>runtime_minutes</th>\n",
       "      <th>genres</th>\n",
       "    </tr>\n",
       "  </thead>\n",
       "  <tbody>\n",
       "    <tr>\n",
       "      <th>0</th>\n",
       "      <td>tt0063540</td>\n",
       "      <td>Sunghursh</td>\n",
       "      <td>Sunghursh</td>\n",
       "      <td>2013</td>\n",
       "      <td>175.0</td>\n",
       "      <td>Action,Crime,Drama</td>\n",
       "    </tr>\n",
       "    <tr>\n",
       "      <th>1</th>\n",
       "      <td>tt0066787</td>\n",
       "      <td>One Day Before the Rainy Season</td>\n",
       "      <td>Ashad Ka Ek Din</td>\n",
       "      <td>2019</td>\n",
       "      <td>114.0</td>\n",
       "      <td>Biography,Drama</td>\n",
       "    </tr>\n",
       "    <tr>\n",
       "      <th>2</th>\n",
       "      <td>tt0069049</td>\n",
       "      <td>The Other Side of the Wind</td>\n",
       "      <td>The Other Side of the Wind</td>\n",
       "      <td>2018</td>\n",
       "      <td>122.0</td>\n",
       "      <td>Drama</td>\n",
       "    </tr>\n",
       "    <tr>\n",
       "      <th>3</th>\n",
       "      <td>tt0069204</td>\n",
       "      <td>Sabse Bada Sukh</td>\n",
       "      <td>Sabse Bada Sukh</td>\n",
       "      <td>2018</td>\n",
       "      <td>NaN</td>\n",
       "      <td>Comedy,Drama</td>\n",
       "    </tr>\n",
       "    <tr>\n",
       "      <th>4</th>\n",
       "      <td>tt0100275</td>\n",
       "      <td>The Wandering Soap Opera</td>\n",
       "      <td>La Telenovela Errante</td>\n",
       "      <td>2017</td>\n",
       "      <td>80.0</td>\n",
       "      <td>Comedy,Drama,Fantasy</td>\n",
       "    </tr>\n",
       "  </tbody>\n",
       "</table>\n",
       "</div>"
      ],
      "text/plain": [
       "      tconst                    primary_title              original_title  \\\n",
       "0  tt0063540                        Sunghursh                   Sunghursh   \n",
       "1  tt0066787  One Day Before the Rainy Season             Ashad Ka Ek Din   \n",
       "2  tt0069049       The Other Side of the Wind  The Other Side of the Wind   \n",
       "3  tt0069204                  Sabse Bada Sukh             Sabse Bada Sukh   \n",
       "4  tt0100275         The Wandering Soap Opera       La Telenovela Errante   \n",
       "\n",
       "   start_year  runtime_minutes                genres  \n",
       "0        2013            175.0    Action,Crime,Drama  \n",
       "1        2019            114.0       Biography,Drama  \n",
       "2        2018            122.0                 Drama  \n",
       "3        2018              NaN          Comedy,Drama  \n",
       "4        2017             80.0  Comedy,Drama,Fantasy  "
      ]
     },
     "execution_count": 2,
     "metadata": {},
     "output_type": "execute_result"
    }
   ],
   "source": [
    "# loading and previewing datasets:\n",
    "imdb_basics = pd.read_csv('zippedData/imdb.title.basics.csv.gz')\n",
    "imdb_basics.head()"
   ]
  },
  {
   "cell_type": "code",
   "execution_count": 3,
   "metadata": {},
   "outputs": [
    {
     "data": {
      "text/html": [
       "<div>\n",
       "<style scoped>\n",
       "    .dataframe tbody tr th:only-of-type {\n",
       "        vertical-align: middle;\n",
       "    }\n",
       "\n",
       "    .dataframe tbody tr th {\n",
       "        vertical-align: top;\n",
       "    }\n",
       "\n",
       "    .dataframe thead th {\n",
       "        text-align: right;\n",
       "    }\n",
       "</style>\n",
       "<table border=\"1\" class=\"dataframe\">\n",
       "  <thead>\n",
       "    <tr style=\"text-align: right;\">\n",
       "      <th></th>\n",
       "      <th>tconst</th>\n",
       "      <th>averagerating</th>\n",
       "      <th>numvotes</th>\n",
       "    </tr>\n",
       "  </thead>\n",
       "  <tbody>\n",
       "    <tr>\n",
       "      <th>0</th>\n",
       "      <td>tt10356526</td>\n",
       "      <td>8.3</td>\n",
       "      <td>31</td>\n",
       "    </tr>\n",
       "    <tr>\n",
       "      <th>1</th>\n",
       "      <td>tt10384606</td>\n",
       "      <td>8.9</td>\n",
       "      <td>559</td>\n",
       "    </tr>\n",
       "    <tr>\n",
       "      <th>2</th>\n",
       "      <td>tt1042974</td>\n",
       "      <td>6.4</td>\n",
       "      <td>20</td>\n",
       "    </tr>\n",
       "    <tr>\n",
       "      <th>3</th>\n",
       "      <td>tt1043726</td>\n",
       "      <td>4.2</td>\n",
       "      <td>50352</td>\n",
       "    </tr>\n",
       "    <tr>\n",
       "      <th>4</th>\n",
       "      <td>tt1060240</td>\n",
       "      <td>6.5</td>\n",
       "      <td>21</td>\n",
       "    </tr>\n",
       "  </tbody>\n",
       "</table>\n",
       "</div>"
      ],
      "text/plain": [
       "       tconst  averagerating  numvotes\n",
       "0  tt10356526            8.3        31\n",
       "1  tt10384606            8.9       559\n",
       "2   tt1042974            6.4        20\n",
       "3   tt1043726            4.2     50352\n",
       "4   tt1060240            6.5        21"
      ]
     },
     "execution_count": 3,
     "metadata": {},
     "output_type": "execute_result"
    }
   ],
   "source": [
    "imdb_ratings = pd.read_csv('zippedData/imdb.title.ratings.csv.gz')\n",
    "imdb_ratings.head()"
   ]
  },
  {
   "cell_type": "code",
   "execution_count": 4,
   "metadata": {},
   "outputs": [
    {
     "data": {
      "text/html": [
       "<div>\n",
       "<style scoped>\n",
       "    .dataframe tbody tr th:only-of-type {\n",
       "        vertical-align: middle;\n",
       "    }\n",
       "\n",
       "    .dataframe tbody tr th {\n",
       "        vertical-align: top;\n",
       "    }\n",
       "\n",
       "    .dataframe thead th {\n",
       "        text-align: right;\n",
       "    }\n",
       "</style>\n",
       "<table border=\"1\" class=\"dataframe\">\n",
       "  <thead>\n",
       "    <tr style=\"text-align: right;\">\n",
       "      <th></th>\n",
       "      <th>title</th>\n",
       "      <th>studio</th>\n",
       "      <th>domestic_gross</th>\n",
       "      <th>foreign_gross</th>\n",
       "      <th>year</th>\n",
       "    </tr>\n",
       "  </thead>\n",
       "  <tbody>\n",
       "    <tr>\n",
       "      <th>0</th>\n",
       "      <td>Toy Story 3</td>\n",
       "      <td>BV</td>\n",
       "      <td>415000000.0</td>\n",
       "      <td>652000000</td>\n",
       "      <td>2010</td>\n",
       "    </tr>\n",
       "    <tr>\n",
       "      <th>1</th>\n",
       "      <td>Alice in Wonderland (2010)</td>\n",
       "      <td>BV</td>\n",
       "      <td>334200000.0</td>\n",
       "      <td>691300000</td>\n",
       "      <td>2010</td>\n",
       "    </tr>\n",
       "    <tr>\n",
       "      <th>2</th>\n",
       "      <td>Harry Potter and the Deathly Hallows Part 1</td>\n",
       "      <td>WB</td>\n",
       "      <td>296000000.0</td>\n",
       "      <td>664300000</td>\n",
       "      <td>2010</td>\n",
       "    </tr>\n",
       "    <tr>\n",
       "      <th>3</th>\n",
       "      <td>Inception</td>\n",
       "      <td>WB</td>\n",
       "      <td>292600000.0</td>\n",
       "      <td>535700000</td>\n",
       "      <td>2010</td>\n",
       "    </tr>\n",
       "    <tr>\n",
       "      <th>4</th>\n",
       "      <td>Shrek Forever After</td>\n",
       "      <td>P/DW</td>\n",
       "      <td>238700000.0</td>\n",
       "      <td>513900000</td>\n",
       "      <td>2010</td>\n",
       "    </tr>\n",
       "  </tbody>\n",
       "</table>\n",
       "</div>"
      ],
      "text/plain": [
       "                                         title studio  domestic_gross  \\\n",
       "0                                  Toy Story 3     BV     415000000.0   \n",
       "1                   Alice in Wonderland (2010)     BV     334200000.0   \n",
       "2  Harry Potter and the Deathly Hallows Part 1     WB     296000000.0   \n",
       "3                                    Inception     WB     292600000.0   \n",
       "4                          Shrek Forever After   P/DW     238700000.0   \n",
       "\n",
       "  foreign_gross  year  \n",
       "0     652000000  2010  \n",
       "1     691300000  2010  \n",
       "2     664300000  2010  \n",
       "3     535700000  2010  \n",
       "4     513900000  2010  "
      ]
     },
     "execution_count": 4,
     "metadata": {},
     "output_type": "execute_result"
    }
   ],
   "source": [
    "gross = pd.read_csv('zippedData/bom.movie_gross.csv.gz')\n",
    "gross.head()"
   ]
  },
  {
   "cell_type": "markdown",
   "metadata": {},
   "source": [
    "From previewing the loaded datasets, we can observe that `imdb_basics` dataframe has information such as the title, the year it came out, the running time in minutes and the genres. `imdb_ratings` has information on the average ratings and the total votes per film. Lastly, `gross` gives us information on the gross revenue made by the film both domestically and internationally in th year it come out.\n",
    "\n",
    "**Understanding the data**:\n",
    "\n",
    "It would be good to understand the total records each dataframe has to see the density of information we'll be working with. Furthermore, it'll be necessary to print a metadata summary of information to see what type of data we'll be working with for analysis."
   ]
  },
  {
   "cell_type": "code",
   "execution_count": 5,
   "metadata": {},
   "outputs": [
    {
     "name": "stdout",
     "output_type": "stream",
     "text": [
      "imdb_basics has 146144 records and 6 columns\n",
      "imdb_ratings has 73856 records and 3 columns\n",
      "gross has 3387 records and 5 columns\n"
     ]
    }
   ],
   "source": [
    "# total records info:\n",
    "print(f'imdb_basics has {imdb_basics.shape[0]} records and {imdb_basics.shape[1]} columns')\n",
    "print(f'imdb_ratings has {imdb_ratings.shape[0]} records and {imdb_ratings.shape[1]} columns')\n",
    "print(f'gross has {gross.shape[0]} records and {gross.shape[1]} columns')"
   ]
  },
  {
   "cell_type": "code",
   "execution_count": 6,
   "metadata": {},
   "outputs": [
    {
     "name": "stdout",
     "output_type": "stream",
     "text": [
      "<class 'pandas.core.frame.DataFrame'>\n",
      "RangeIndex: 146144 entries, 0 to 146143\n",
      "Data columns (total 6 columns):\n",
      " #   Column           Non-Null Count   Dtype  \n",
      "---  ------           --------------   -----  \n",
      " 0   tconst           146144 non-null  object \n",
      " 1   primary_title    146144 non-null  object \n",
      " 2   original_title   146123 non-null  object \n",
      " 3   start_year       146144 non-null  int64  \n",
      " 4   runtime_minutes  114405 non-null  float64\n",
      " 5   genres           140736 non-null  object \n",
      "dtypes: float64(1), int64(1), object(4)\n",
      "memory usage: 6.7+ MB\n"
     ]
    }
   ],
   "source": [
    "# metadata for dataframes:\n",
    "imdb_basics.info()"
   ]
  },
  {
   "cell_type": "code",
   "execution_count": 7,
   "metadata": {},
   "outputs": [
    {
     "name": "stdout",
     "output_type": "stream",
     "text": [
      "<class 'pandas.core.frame.DataFrame'>\n",
      "RangeIndex: 73856 entries, 0 to 73855\n",
      "Data columns (total 3 columns):\n",
      " #   Column         Non-Null Count  Dtype  \n",
      "---  ------         --------------  -----  \n",
      " 0   tconst         73856 non-null  object \n",
      " 1   averagerating  73856 non-null  float64\n",
      " 2   numvotes       73856 non-null  int64  \n",
      "dtypes: float64(1), int64(1), object(1)\n",
      "memory usage: 1.7+ MB\n"
     ]
    }
   ],
   "source": [
    "# metadata for dataframes:\n",
    "imdb_ratings.info()"
   ]
  },
  {
   "cell_type": "code",
   "execution_count": 8,
   "metadata": {},
   "outputs": [
    {
     "name": "stdout",
     "output_type": "stream",
     "text": [
      "<class 'pandas.core.frame.DataFrame'>\n",
      "RangeIndex: 3387 entries, 0 to 3386\n",
      "Data columns (total 5 columns):\n",
      " #   Column          Non-Null Count  Dtype  \n",
      "---  ------          --------------  -----  \n",
      " 0   title           3387 non-null   object \n",
      " 1   studio          3382 non-null   object \n",
      " 2   domestic_gross  3359 non-null   float64\n",
      " 3   foreign_gross   2037 non-null   object \n",
      " 4   year            3387 non-null   int64  \n",
      "dtypes: float64(1), int64(1), object(3)\n",
      "memory usage: 132.4+ KB\n"
     ]
    }
   ],
   "source": [
    "# metadata for dataframes:\n",
    "gross.info()"
   ]
  },
  {
   "cell_type": "markdown",
   "metadata": {},
   "source": [
    "From looking at the information above, we can notice that `imdb_basics` has the most records with `gross` having the least. Futhermore, the metadata shows us that both `imdb_basics` and `gross` containg missing values as shown by their non-null counts. The Dtype of the foreign_gross column shows that it's an object whereas the value should be numerical. Since we are certain there are missing values, let's confirm the total missing values in each dataframe."
   ]
  },
  {
   "cell_type": "code",
   "execution_count": 9,
   "metadata": {},
   "outputs": [
    {
     "data": {
      "text/plain": [
       "tconst                 0\n",
       "primary_title          0\n",
       "original_title        21\n",
       "start_year             0\n",
       "runtime_minutes    31739\n",
       "genres              5408\n",
       "dtype: int64"
      ]
     },
     "execution_count": 9,
     "metadata": {},
     "output_type": "execute_result"
    }
   ],
   "source": [
    "#checking for missing values:\n",
    "imdb_basics.isna().sum()"
   ]
  },
  {
   "cell_type": "code",
   "execution_count": 10,
   "metadata": {},
   "outputs": [
    {
     "data": {
      "text/plain": [
       "title                0\n",
       "studio               5\n",
       "domestic_gross      28\n",
       "foreign_gross     1350\n",
       "year                 0\n",
       "dtype: int64"
      ]
     },
     "execution_count": 10,
     "metadata": {},
     "output_type": "execute_result"
    }
   ],
   "source": [
    "#checking for missing values:\n",
    "gross.isna().sum()"
   ]
  },
  {
   "cell_type": "markdown",
   "metadata": {},
   "source": [
    "* `imdb_basics` has a significant amount of missing values under genres and runtime_minutes. The missing values under original title can be ignored as long as well have the primary_title (which does not have missing values). \n",
    "* `gross` has missing information regarding the foreign_gross, studio and domestic gross. Studio has only 5 missing values which can be filled in with the proper studio name through a simple search."
   ]
  },
  {
   "cell_type": "markdown",
   "metadata": {},
   "source": [
    "Since `imdb_basics` and `imdb_ratings` have the same source and recognizable primary key, it would wise to first **join the dataframes** to see which records would be removed (due to not sharing primary key). This would be the initial step before the process of transformation and cleaning.\n",
    "\n",
    "The `imdb_basics` and `imdb_ratings`will be merged in a way to ensure none of the records in `imdb_ratings` are lost."
   ]
  },
  {
   "cell_type": "code",
   "execution_count": 11,
   "metadata": {},
   "outputs": [
    {
     "data": {
      "text/html": [
       "<div>\n",
       "<style scoped>\n",
       "    .dataframe tbody tr th:only-of-type {\n",
       "        vertical-align: middle;\n",
       "    }\n",
       "\n",
       "    .dataframe tbody tr th {\n",
       "        vertical-align: top;\n",
       "    }\n",
       "\n",
       "    .dataframe thead th {\n",
       "        text-align: right;\n",
       "    }\n",
       "</style>\n",
       "<table border=\"1\" class=\"dataframe\">\n",
       "  <thead>\n",
       "    <tr style=\"text-align: right;\">\n",
       "      <th></th>\n",
       "      <th>tconst</th>\n",
       "      <th>primary_title</th>\n",
       "      <th>original_title</th>\n",
       "      <th>start_year</th>\n",
       "      <th>runtime_minutes</th>\n",
       "      <th>genres</th>\n",
       "      <th>averagerating</th>\n",
       "      <th>numvotes</th>\n",
       "    </tr>\n",
       "  </thead>\n",
       "  <tbody>\n",
       "    <tr>\n",
       "      <th>0</th>\n",
       "      <td>tt10356526</td>\n",
       "      <td>Laiye Je Yaarian</td>\n",
       "      <td>Laiye Je Yaarian</td>\n",
       "      <td>2019</td>\n",
       "      <td>117.0</td>\n",
       "      <td>Romance</td>\n",
       "      <td>8.3</td>\n",
       "      <td>31</td>\n",
       "    </tr>\n",
       "    <tr>\n",
       "      <th>1</th>\n",
       "      <td>tt10384606</td>\n",
       "      <td>Borderless</td>\n",
       "      <td>Borderless</td>\n",
       "      <td>2019</td>\n",
       "      <td>87.0</td>\n",
       "      <td>Documentary</td>\n",
       "      <td>8.9</td>\n",
       "      <td>559</td>\n",
       "    </tr>\n",
       "    <tr>\n",
       "      <th>2</th>\n",
       "      <td>tt1042974</td>\n",
       "      <td>Just Inès</td>\n",
       "      <td>Just Inès</td>\n",
       "      <td>2010</td>\n",
       "      <td>90.0</td>\n",
       "      <td>Drama</td>\n",
       "      <td>6.4</td>\n",
       "      <td>20</td>\n",
       "    </tr>\n",
       "    <tr>\n",
       "      <th>3</th>\n",
       "      <td>tt1043726</td>\n",
       "      <td>The Legend of Hercules</td>\n",
       "      <td>The Legend of Hercules</td>\n",
       "      <td>2014</td>\n",
       "      <td>99.0</td>\n",
       "      <td>Action,Adventure,Fantasy</td>\n",
       "      <td>4.2</td>\n",
       "      <td>50352</td>\n",
       "    </tr>\n",
       "    <tr>\n",
       "      <th>4</th>\n",
       "      <td>tt1060240</td>\n",
       "      <td>Até Onde?</td>\n",
       "      <td>Até Onde?</td>\n",
       "      <td>2011</td>\n",
       "      <td>73.0</td>\n",
       "      <td>Mystery,Thriller</td>\n",
       "      <td>6.5</td>\n",
       "      <td>21</td>\n",
       "    </tr>\n",
       "    <tr>\n",
       "      <th>...</th>\n",
       "      <td>...</td>\n",
       "      <td>...</td>\n",
       "      <td>...</td>\n",
       "      <td>...</td>\n",
       "      <td>...</td>\n",
       "      <td>...</td>\n",
       "      <td>...</td>\n",
       "      <td>...</td>\n",
       "    </tr>\n",
       "    <tr>\n",
       "      <th>73851</th>\n",
       "      <td>tt9805820</td>\n",
       "      <td>Caisa</td>\n",
       "      <td>Caisa</td>\n",
       "      <td>2018</td>\n",
       "      <td>84.0</td>\n",
       "      <td>Documentary</td>\n",
       "      <td>8.1</td>\n",
       "      <td>25</td>\n",
       "    </tr>\n",
       "    <tr>\n",
       "      <th>73852</th>\n",
       "      <td>tt9844256</td>\n",
       "      <td>Code Geass: Lelouch of the Rebellion - Glorifi...</td>\n",
       "      <td>Code Geass: Lelouch of the Rebellion Episode III</td>\n",
       "      <td>2018</td>\n",
       "      <td>120.0</td>\n",
       "      <td>Action,Animation,Sci-Fi</td>\n",
       "      <td>7.5</td>\n",
       "      <td>24</td>\n",
       "    </tr>\n",
       "    <tr>\n",
       "      <th>73853</th>\n",
       "      <td>tt9851050</td>\n",
       "      <td>Sisters</td>\n",
       "      <td>Sisters</td>\n",
       "      <td>2019</td>\n",
       "      <td>NaN</td>\n",
       "      <td>Action,Drama</td>\n",
       "      <td>4.7</td>\n",
       "      <td>14</td>\n",
       "    </tr>\n",
       "    <tr>\n",
       "      <th>73854</th>\n",
       "      <td>tt9886934</td>\n",
       "      <td>The Projectionist</td>\n",
       "      <td>The Projectionist</td>\n",
       "      <td>2019</td>\n",
       "      <td>81.0</td>\n",
       "      <td>Documentary</td>\n",
       "      <td>7.0</td>\n",
       "      <td>5</td>\n",
       "    </tr>\n",
       "    <tr>\n",
       "      <th>73855</th>\n",
       "      <td>tt9894098</td>\n",
       "      <td>Sathru</td>\n",
       "      <td>Sathru</td>\n",
       "      <td>2019</td>\n",
       "      <td>129.0</td>\n",
       "      <td>Thriller</td>\n",
       "      <td>6.3</td>\n",
       "      <td>128</td>\n",
       "    </tr>\n",
       "  </tbody>\n",
       "</table>\n",
       "<p>73856 rows × 8 columns</p>\n",
       "</div>"
      ],
      "text/plain": [
       "           tconst                                      primary_title  \\\n",
       "0      tt10356526                                   Laiye Je Yaarian   \n",
       "1      tt10384606                                         Borderless   \n",
       "2       tt1042974                                          Just Inès   \n",
       "3       tt1043726                             The Legend of Hercules   \n",
       "4       tt1060240                                          Até Onde?   \n",
       "...           ...                                                ...   \n",
       "73851   tt9805820                                              Caisa   \n",
       "73852   tt9844256  Code Geass: Lelouch of the Rebellion - Glorifi...   \n",
       "73853   tt9851050                                            Sisters   \n",
       "73854   tt9886934                                  The Projectionist   \n",
       "73855   tt9894098                                             Sathru   \n",
       "\n",
       "                                         original_title  start_year  \\\n",
       "0                                      Laiye Je Yaarian        2019   \n",
       "1                                            Borderless        2019   \n",
       "2                                             Just Inès        2010   \n",
       "3                                The Legend of Hercules        2014   \n",
       "4                                             Até Onde?        2011   \n",
       "...                                                 ...         ...   \n",
       "73851                                             Caisa        2018   \n",
       "73852  Code Geass: Lelouch of the Rebellion Episode III        2018   \n",
       "73853                                           Sisters        2019   \n",
       "73854                                 The Projectionist        2019   \n",
       "73855                                            Sathru        2019   \n",
       "\n",
       "       runtime_minutes                    genres  averagerating  numvotes  \n",
       "0                117.0                   Romance            8.3        31  \n",
       "1                 87.0               Documentary            8.9       559  \n",
       "2                 90.0                     Drama            6.4        20  \n",
       "3                 99.0  Action,Adventure,Fantasy            4.2     50352  \n",
       "4                 73.0          Mystery,Thriller            6.5        21  \n",
       "...                ...                       ...            ...       ...  \n",
       "73851             84.0               Documentary            8.1        25  \n",
       "73852            120.0   Action,Animation,Sci-Fi            7.5        24  \n",
       "73853              NaN              Action,Drama            4.7        14  \n",
       "73854             81.0               Documentary            7.0         5  \n",
       "73855            129.0                  Thriller            6.3       128  \n",
       "\n",
       "[73856 rows x 8 columns]"
      ]
     },
     "execution_count": 11,
     "metadata": {},
     "output_type": "execute_result"
    }
   ],
   "source": [
    "#joining dataframes with right join\n",
    "merged = imdb_basics.merge(imdb_ratings, on='tconst', how='right')\n",
    "merged"
   ]
  },
  {
   "cell_type": "markdown",
   "metadata": {},
   "source": [
    "There datafram above now has all the records from `imdb_ratings` and only the records with the matching keys ('tconst') from `imdb_basics`. Now let's review the missing values in this merged dataset: "
   ]
  },
  {
   "cell_type": "code",
   "execution_count": 12,
   "metadata": {},
   "outputs": [
    {
     "data": {
      "text/plain": [
       "tconst                0\n",
       "primary_title         0\n",
       "original_title        0\n",
       "start_year            0\n",
       "runtime_minutes    7620\n",
       "genres              804\n",
       "averagerating         0\n",
       "numvotes              0\n",
       "dtype: int64"
      ]
     },
     "execution_count": 12,
     "metadata": {},
     "output_type": "execute_result"
    }
   ],
   "source": [
    "# checking for missing values on merged dataset:\n",
    "merged.isna().sum()"
   ]
  },
  {
   "cell_type": "markdown",
   "metadata": {},
   "source": [
    "It is clear that the number of missing values in both the runtime_minutes and genres columns has significantly dropped. Now we're working with two dataframes: `merged` and `gross`. The dataframes are now suitable for transformation and cleanup."
   ]
  },
  {
   "cell_type": "markdown",
   "metadata": {},
   "source": [
    "**Transforming and Cleaning Up the Data**\n",
    "\n",
    "For the `merged` dataframe, we'll first start by cleaning up the missing values for runtime_minutes. Films generally tend to run for more than one hour and less that three hours. It would a suitable approach to populate the missing values of runtime with either the mean or median of the existing runtimes_minutes columns. First let's check the film that has the longest runtime and the one with the shortest runtime."
   ]
  },
  {
   "cell_type": "code",
   "execution_count": 13,
   "metadata": {},
   "outputs": [
    {
     "name": "stdout",
     "output_type": "stream",
     "text": [
      "Longest running time: 51420.0\n",
      "Shortest running time: 3.0\n"
     ]
    }
   ],
   "source": [
    "# checking runtime_minutes (most and least)\n",
    "print('Longest running time:', merged.runtime_minutes.max())\n",
    "print('Shortest running time:', merged.runtime_minutes.min())"
   ]
  },
  {
   "cell_type": "code",
   "execution_count": 14,
   "metadata": {},
   "outputs": [
    {
     "name": "stdout",
     "output_type": "stream",
     "text": [
      "Mean running time: 94.6540400990398\n",
      "Median running time: 91.0\n"
     ]
    }
   ],
   "source": [
    "# checking the mean and median for runtime_minutes\n",
    "print('Mean running time:', merged.runtime_minutes.mean())\n",
    "print('Median running time:', merged.runtime_minutes.median())"
   ]
  },
  {
   "cell_type": "markdown",
   "metadata": {},
   "source": [
    "The results above show that the longest running time for a movie is at 51,420 minutes and the least at 3 minutes. The information show is absurd in the sense that movie cannot have a play duration that lasts a month. It is doubtable anyone would watch that. Additionally a movie that is 3 minutes long is either a music video or an advertisement.\n",
    "\n",
    "The mean and median however show a realistic timing. The deviation from the max and min is immensely large. Due to this, the mean will definitely be affected by the runtimes that are too short or too long. The median would be a better measure to populate the missing values."
   ]
  },
  {
   "cell_type": "code",
   "execution_count": 15,
   "metadata": {
    "scrolled": true
   },
   "outputs": [
    {
     "data": {
      "text/plain": [
       "tconst               0\n",
       "primary_title        0\n",
       "original_title       0\n",
       "start_year           0\n",
       "runtime_minutes      0\n",
       "genres             804\n",
       "averagerating        0\n",
       "numvotes             0\n",
       "dtype: int64"
      ]
     },
     "execution_count": 15,
     "metadata": {},
     "output_type": "execute_result"
    }
   ],
   "source": [
    "# replacing missing values with median\n",
    "merged.runtime_minutes.fillna(value=merged.runtime_minutes.median(), inplace=True)\n",
    "merged.isna().sum()"
   ]
  },
  {
   "cell_type": "markdown",
   "metadata": {},
   "source": [
    "The remaining column with missing values is genres. Checking the value counts will tell us what type of genres are there and the amount they are."
   ]
  },
  {
   "cell_type": "code",
   "execution_count": 16,
   "metadata": {},
   "outputs": [
    {
     "data": {
      "text/plain": [
       "Drama                               11612\n",
       "Documentary                         10313\n",
       "Comedy                               5613\n",
       "Horror                               2692\n",
       "Comedy,Drama                         2617\n",
       "                                    ...  \n",
       "Comedy,Romance,Western                  1\n",
       "Comedy,Fantasy,Sport                    1\n",
       "Action,Family,Western                   1\n",
       "Biography,Documentary,Reality-TV        1\n",
       "Animation,Family,History                1\n",
       "Name: genres, Length: 923, dtype: int64"
      ]
     },
     "execution_count": 16,
     "metadata": {},
     "output_type": "execute_result"
    }
   ],
   "source": [
    "merged.genres.value_counts()"
   ]
  },
  {
   "cell_type": "markdown",
   "metadata": {},
   "source": [
    "The information above tells us that there's films with multiple genres however the most common genres are dramas and documentaries. For now we'll ignore the missing values in the genres column.\n",
    "\n",
    "The `gross` dataframe contains a significant amount missing data in the foreign_gross column. Furthermore, the data is structured in the form of objects. Regarding this information, it'd be a favoured choice to drop the foreign_gross column and study the domestic_gross column."
   ]
  },
  {
   "cell_type": "code",
   "execution_count": 17,
   "metadata": {},
   "outputs": [],
   "source": [
    "gross = gross.drop('foreign_gross', axis=1)"
   ]
  },
  {
   "cell_type": "code",
   "execution_count": 18,
   "metadata": {},
   "outputs": [
    {
     "data": {
      "text/plain": [
       "count    3.359000e+03\n",
       "mean     2.874585e+07\n",
       "std      6.698250e+07\n",
       "min      1.000000e+02\n",
       "25%      1.200000e+05\n",
       "50%      1.400000e+06\n",
       "75%      2.790000e+07\n",
       "max      9.367000e+08\n",
       "Name: domestic_gross, dtype: float64"
      ]
     },
     "execution_count": 18,
     "metadata": {},
     "output_type": "execute_result"
    }
   ],
   "source": [
    "# checking missing values in domestic_gross\n",
    "gross[gross.domestic_gross.isna()]\n",
    "\n",
    "#checking statistics summary\n",
    "gross.domestic_gross.describe() "
   ]
  },
  {
   "cell_type": "markdown",
   "metadata": {},
   "source": [
    "The mean and median have a noticeable difference when observed. Therefore it would be preferable to use median as the suitable measure central tendency to fill in the null values of domestic_gross."
   ]
  },
  {
   "cell_type": "code",
   "execution_count": 19,
   "metadata": {},
   "outputs": [
    {
     "data": {
      "text/plain": [
       "title             0\n",
       "studio            5\n",
       "domestic_gross    0\n",
       "year              0\n",
       "dtype: int64"
      ]
     },
     "execution_count": 19,
     "metadata": {},
     "output_type": "execute_result"
    }
   ],
   "source": [
    "# assigning median to a variable\n",
    "median = gross.domestic_gross.median()\n",
    "\n",
    "#filling in missing values with variable.\n",
    "gross.domestic_gross.fillna(value=median, inplace=True)\n",
    "\n",
    "#check isna().sum() again\n",
    "gross.isna().sum()"
   ]
  },
  {
   "cell_type": "markdown",
   "metadata": {},
   "source": [
    "The final step taken in cleaning up both dataframes is to check if there are any duplicated rows and to drop them"
   ]
  },
  {
   "cell_type": "code",
   "execution_count": 20,
   "metadata": {},
   "outputs": [
    {
     "data": {
      "text/html": [
       "<div>\n",
       "<style scoped>\n",
       "    .dataframe tbody tr th:only-of-type {\n",
       "        vertical-align: middle;\n",
       "    }\n",
       "\n",
       "    .dataframe tbody tr th {\n",
       "        vertical-align: top;\n",
       "    }\n",
       "\n",
       "    .dataframe thead th {\n",
       "        text-align: right;\n",
       "    }\n",
       "</style>\n",
       "<table border=\"1\" class=\"dataframe\">\n",
       "  <thead>\n",
       "    <tr style=\"text-align: right;\">\n",
       "      <th></th>\n",
       "      <th>tconst</th>\n",
       "      <th>primary_title</th>\n",
       "      <th>original_title</th>\n",
       "      <th>start_year</th>\n",
       "      <th>runtime_minutes</th>\n",
       "      <th>genres</th>\n",
       "      <th>averagerating</th>\n",
       "      <th>numvotes</th>\n",
       "    </tr>\n",
       "  </thead>\n",
       "  <tbody>\n",
       "  </tbody>\n",
       "</table>\n",
       "</div>"
      ],
      "text/plain": [
       "Empty DataFrame\n",
       "Columns: [tconst, primary_title, original_title, start_year, runtime_minutes, genres, averagerating, numvotes]\n",
       "Index: []"
      ]
     },
     "execution_count": 20,
     "metadata": {},
     "output_type": "execute_result"
    }
   ],
   "source": [
    "# checking for duplicates\n",
    "merged[merged.duplicated()]"
   ]
  },
  {
   "cell_type": "code",
   "execution_count": 21,
   "metadata": {},
   "outputs": [
    {
     "data": {
      "text/html": [
       "<div>\n",
       "<style scoped>\n",
       "    .dataframe tbody tr th:only-of-type {\n",
       "        vertical-align: middle;\n",
       "    }\n",
       "\n",
       "    .dataframe tbody tr th {\n",
       "        vertical-align: top;\n",
       "    }\n",
       "\n",
       "    .dataframe thead th {\n",
       "        text-align: right;\n",
       "    }\n",
       "</style>\n",
       "<table border=\"1\" class=\"dataframe\">\n",
       "  <thead>\n",
       "    <tr style=\"text-align: right;\">\n",
       "      <th></th>\n",
       "      <th>title</th>\n",
       "      <th>studio</th>\n",
       "      <th>domestic_gross</th>\n",
       "      <th>year</th>\n",
       "    </tr>\n",
       "  </thead>\n",
       "  <tbody>\n",
       "  </tbody>\n",
       "</table>\n",
       "</div>"
      ],
      "text/plain": [
       "Empty DataFrame\n",
       "Columns: [title, studio, domestic_gross, year]\n",
       "Index: []"
      ]
     },
     "execution_count": 21,
     "metadata": {},
     "output_type": "execute_result"
    }
   ],
   "source": [
    "# checking for duplicates\n",
    "gross[gross.duplicated()]"
   ]
  },
  {
   "cell_type": "markdown",
   "metadata": {},
   "source": [
    "Both dataframes `merged` and `gross` have been 'spruced' up as much as possible while trying maintain as much information as we could. Now we'll used these two dataframes to do statistical study, exploratory analysis and create insightful visualizations"
   ]
  },
  {
   "cell_type": "markdown",
   "metadata": {},
   "source": [
    "### 2. Exploratory Analysis\n",
    "\n",
    "To garner more understanding of these two datasets, each shall be explored to understand the information in each subset and how it relates to the other subset as well as statistical studies. Areas of focus will be the years of release, number of ratings, number of votes and the domestic gross revenue for the films. "
   ]
  },
  {
   "cell_type": "code",
   "execution_count": 22,
   "metadata": {},
   "outputs": [
    {
     "data": {
      "text/html": [
       "<div>\n",
       "<style scoped>\n",
       "    .dataframe tbody tr th:only-of-type {\n",
       "        vertical-align: middle;\n",
       "    }\n",
       "\n",
       "    .dataframe tbody tr th {\n",
       "        vertical-align: top;\n",
       "    }\n",
       "\n",
       "    .dataframe thead th {\n",
       "        text-align: right;\n",
       "    }\n",
       "</style>\n",
       "<table border=\"1\" class=\"dataframe\">\n",
       "  <thead>\n",
       "    <tr style=\"text-align: right;\">\n",
       "      <th></th>\n",
       "      <th>tconst</th>\n",
       "      <th>primary_title</th>\n",
       "      <th>original_title</th>\n",
       "      <th>start_year</th>\n",
       "      <th>runtime_minutes</th>\n",
       "      <th>genres</th>\n",
       "      <th>averagerating</th>\n",
       "      <th>numvotes</th>\n",
       "    </tr>\n",
       "  </thead>\n",
       "  <tbody>\n",
       "    <tr>\n",
       "      <th>0</th>\n",
       "      <td>tt10356526</td>\n",
       "      <td>Laiye Je Yaarian</td>\n",
       "      <td>Laiye Je Yaarian</td>\n",
       "      <td>2019</td>\n",
       "      <td>117.0</td>\n",
       "      <td>Romance</td>\n",
       "      <td>8.3</td>\n",
       "      <td>31</td>\n",
       "    </tr>\n",
       "    <tr>\n",
       "      <th>1</th>\n",
       "      <td>tt10384606</td>\n",
       "      <td>Borderless</td>\n",
       "      <td>Borderless</td>\n",
       "      <td>2019</td>\n",
       "      <td>87.0</td>\n",
       "      <td>Documentary</td>\n",
       "      <td>8.9</td>\n",
       "      <td>559</td>\n",
       "    </tr>\n",
       "    <tr>\n",
       "      <th>2</th>\n",
       "      <td>tt1042974</td>\n",
       "      <td>Just Inès</td>\n",
       "      <td>Just Inès</td>\n",
       "      <td>2010</td>\n",
       "      <td>90.0</td>\n",
       "      <td>Drama</td>\n",
       "      <td>6.4</td>\n",
       "      <td>20</td>\n",
       "    </tr>\n",
       "    <tr>\n",
       "      <th>3</th>\n",
       "      <td>tt1043726</td>\n",
       "      <td>The Legend of Hercules</td>\n",
       "      <td>The Legend of Hercules</td>\n",
       "      <td>2014</td>\n",
       "      <td>99.0</td>\n",
       "      <td>Action,Adventure,Fantasy</td>\n",
       "      <td>4.2</td>\n",
       "      <td>50352</td>\n",
       "    </tr>\n",
       "    <tr>\n",
       "      <th>4</th>\n",
       "      <td>tt1060240</td>\n",
       "      <td>Até Onde?</td>\n",
       "      <td>Até Onde?</td>\n",
       "      <td>2011</td>\n",
       "      <td>73.0</td>\n",
       "      <td>Mystery,Thriller</td>\n",
       "      <td>6.5</td>\n",
       "      <td>21</td>\n",
       "    </tr>\n",
       "  </tbody>\n",
       "</table>\n",
       "</div>"
      ],
      "text/plain": [
       "       tconst           primary_title          original_title  start_year  \\\n",
       "0  tt10356526        Laiye Je Yaarian        Laiye Je Yaarian        2019   \n",
       "1  tt10384606              Borderless              Borderless        2019   \n",
       "2   tt1042974               Just Inès               Just Inès        2010   \n",
       "3   tt1043726  The Legend of Hercules  The Legend of Hercules        2014   \n",
       "4   tt1060240               Até Onde?               Até Onde?        2011   \n",
       "\n",
       "   runtime_minutes                    genres  averagerating  numvotes  \n",
       "0            117.0                   Romance            8.3        31  \n",
       "1             87.0               Documentary            8.9       559  \n",
       "2             90.0                     Drama            6.4        20  \n",
       "3             99.0  Action,Adventure,Fantasy            4.2     50352  \n",
       "4             73.0          Mystery,Thriller            6.5        21  "
      ]
     },
     "execution_count": 22,
     "metadata": {},
     "output_type": "execute_result"
    }
   ],
   "source": [
    "merged.head()"
   ]
  },
  {
   "cell_type": "code",
   "execution_count": 23,
   "metadata": {},
   "outputs": [
    {
     "data": {
      "text/plain": [
       "2016    8721\n",
       "2017    8713\n",
       "2015    8494\n",
       "2014    8371\n",
       "2013    7990\n",
       "2012    7680\n",
       "2018    7526\n",
       "2011    7389\n",
       "2010    6792\n",
       "2019    2180\n",
       "Name: start_year, dtype: int64"
      ]
     },
     "execution_count": 23,
     "metadata": {},
     "output_type": "execute_result"
    }
   ],
   "source": [
    "# checking the year which most films in the dataframe are from:\n",
    "merged.start_year.value_counts()"
   ]
  },
  {
   "cell_type": "code",
   "execution_count": 24,
   "metadata": {},
   "outputs": [
    {
     "data": {
      "text/plain": [
       "10.0"
      ]
     },
     "execution_count": 24,
     "metadata": {},
     "output_type": "execute_result"
    }
   ],
   "source": [
    "# checking the highest averagerating\n",
    "merged.averagerating.max()"
   ]
  },
  {
   "cell_type": "code",
   "execution_count": 25,
   "metadata": {},
   "outputs": [
    {
     "data": {
      "text/html": [
       "<div>\n",
       "<style scoped>\n",
       "    .dataframe tbody tr th:only-of-type {\n",
       "        vertical-align: middle;\n",
       "    }\n",
       "\n",
       "    .dataframe tbody tr th {\n",
       "        vertical-align: top;\n",
       "    }\n",
       "\n",
       "    .dataframe thead th {\n",
       "        text-align: right;\n",
       "    }\n",
       "</style>\n",
       "<table border=\"1\" class=\"dataframe\">\n",
       "  <thead>\n",
       "    <tr style=\"text-align: right;\">\n",
       "      <th></th>\n",
       "      <th>tconst</th>\n",
       "      <th>primary_title</th>\n",
       "      <th>original_title</th>\n",
       "      <th>start_year</th>\n",
       "      <th>runtime_minutes</th>\n",
       "      <th>genres</th>\n",
       "      <th>averagerating</th>\n",
       "      <th>numvotes</th>\n",
       "    </tr>\n",
       "  </thead>\n",
       "  <tbody>\n",
       "    <tr>\n",
       "      <th>6784</th>\n",
       "      <td>tt5390098</td>\n",
       "      <td>The Paternal Bond: Barbary Macaques</td>\n",
       "      <td>Atlas Mountain: Barbary Macaques - Childcaring...</td>\n",
       "      <td>2015</td>\n",
       "      <td>59.0</td>\n",
       "      <td>Documentary</td>\n",
       "      <td>10.0</td>\n",
       "      <td>5</td>\n",
       "    </tr>\n",
       "    <tr>\n",
       "      <th>7017</th>\n",
       "      <td>tt6295832</td>\n",
       "      <td>Requiem voor een Boom</td>\n",
       "      <td>Requiem voor een Boom</td>\n",
       "      <td>2016</td>\n",
       "      <td>48.0</td>\n",
       "      <td>Documentary</td>\n",
       "      <td>10.0</td>\n",
       "      <td>5</td>\n",
       "    </tr>\n",
       "    <tr>\n",
       "      <th>8992</th>\n",
       "      <td>tt1770682</td>\n",
       "      <td>Freeing Bernie Baran</td>\n",
       "      <td>Freeing Bernie Baran</td>\n",
       "      <td>2010</td>\n",
       "      <td>100.0</td>\n",
       "      <td>Crime,Documentary</td>\n",
       "      <td>10.0</td>\n",
       "      <td>5</td>\n",
       "    </tr>\n",
       "    <tr>\n",
       "      <th>26153</th>\n",
       "      <td>tt2632430</td>\n",
       "      <td>Hercule contre Hermès</td>\n",
       "      <td>Hercule contre Hermès</td>\n",
       "      <td>2012</td>\n",
       "      <td>72.0</td>\n",
       "      <td>Documentary</td>\n",
       "      <td>10.0</td>\n",
       "      <td>5</td>\n",
       "    </tr>\n",
       "    <tr>\n",
       "      <th>27644</th>\n",
       "      <td>tt8730716</td>\n",
       "      <td>Pick It Up! - Ska in the '90s</td>\n",
       "      <td>Pick It Up! - Ska in the '90s</td>\n",
       "      <td>2019</td>\n",
       "      <td>99.0</td>\n",
       "      <td>Documentary</td>\n",
       "      <td>10.0</td>\n",
       "      <td>5</td>\n",
       "    </tr>\n",
       "    <tr>\n",
       "      <th>34334</th>\n",
       "      <td>tt4960818</td>\n",
       "      <td>Revolution Food</td>\n",
       "      <td>Revolution Food</td>\n",
       "      <td>2015</td>\n",
       "      <td>70.0</td>\n",
       "      <td>Documentary</td>\n",
       "      <td>10.0</td>\n",
       "      <td>8</td>\n",
       "    </tr>\n",
       "    <tr>\n",
       "      <th>45335</th>\n",
       "      <td>tt6991826</td>\n",
       "      <td>A Dedicated Life: Phoebe Brand Beyond the Group</td>\n",
       "      <td>A Dedicated Life: Phoebe Brand Beyond the Group</td>\n",
       "      <td>2015</td>\n",
       "      <td>93.0</td>\n",
       "      <td>Documentary</td>\n",
       "      <td>10.0</td>\n",
       "      <td>5</td>\n",
       "    </tr>\n",
       "    <tr>\n",
       "      <th>45660</th>\n",
       "      <td>tt10176328</td>\n",
       "      <td>Exteriores: Mulheres Brasileiras na Diplomacia</td>\n",
       "      <td>Exteriores: Mulheres Brasileiras na Diplomacia</td>\n",
       "      <td>2018</td>\n",
       "      <td>52.0</td>\n",
       "      <td>Documentary</td>\n",
       "      <td>10.0</td>\n",
       "      <td>5</td>\n",
       "    </tr>\n",
       "    <tr>\n",
       "      <th>47796</th>\n",
       "      <td>tt4944240</td>\n",
       "      <td>Dog Days in the Heartland</td>\n",
       "      <td>Dog Days in the Heartland</td>\n",
       "      <td>2017</td>\n",
       "      <td>91.0</td>\n",
       "      <td>Drama</td>\n",
       "      <td>10.0</td>\n",
       "      <td>5</td>\n",
       "    </tr>\n",
       "    <tr>\n",
       "      <th>49073</th>\n",
       "      <td>tt5089804</td>\n",
       "      <td>Fly High: Story of the Disc Dog</td>\n",
       "      <td>Fly High: Story of the Disc Dog</td>\n",
       "      <td>2019</td>\n",
       "      <td>65.0</td>\n",
       "      <td>Documentary</td>\n",
       "      <td>10.0</td>\n",
       "      <td>7</td>\n",
       "    </tr>\n",
       "    <tr>\n",
       "      <th>52178</th>\n",
       "      <td>tt7259300</td>\n",
       "      <td>Calamity Kevin</td>\n",
       "      <td>Calamity Kevin</td>\n",
       "      <td>2019</td>\n",
       "      <td>77.0</td>\n",
       "      <td>Adventure,Comedy</td>\n",
       "      <td>10.0</td>\n",
       "      <td>6</td>\n",
       "    </tr>\n",
       "    <tr>\n",
       "      <th>56819</th>\n",
       "      <td>tt10378660</td>\n",
       "      <td>The Dark Knight: The Ballad of the N Word</td>\n",
       "      <td>The Dark Knight: The Ballad of the N Word</td>\n",
       "      <td>2018</td>\n",
       "      <td>129.0</td>\n",
       "      <td>Comedy,Drama</td>\n",
       "      <td>10.0</td>\n",
       "      <td>5</td>\n",
       "    </tr>\n",
       "    <tr>\n",
       "      <th>57679</th>\n",
       "      <td>tt5344358</td>\n",
       "      <td>All Around Us</td>\n",
       "      <td>All Around Us</td>\n",
       "      <td>2019</td>\n",
       "      <td>91.0</td>\n",
       "      <td>Documentary</td>\n",
       "      <td>10.0</td>\n",
       "      <td>6</td>\n",
       "    </tr>\n",
       "    <tr>\n",
       "      <th>59761</th>\n",
       "      <td>tt4109192</td>\n",
       "      <td>I Was Born Yesterday!</td>\n",
       "      <td>I Was Born Yesterday!</td>\n",
       "      <td>2015</td>\n",
       "      <td>31.0</td>\n",
       "      <td>Documentary</td>\n",
       "      <td>10.0</td>\n",
       "      <td>6</td>\n",
       "    </tr>\n",
       "    <tr>\n",
       "      <th>64754</th>\n",
       "      <td>tt7227500</td>\n",
       "      <td>Ellis Island: The Making of a Master Race in A...</td>\n",
       "      <td>Ellis Island: The Making of a Master Race in A...</td>\n",
       "      <td>2018</td>\n",
       "      <td>70.0</td>\n",
       "      <td>Documentary,History</td>\n",
       "      <td>10.0</td>\n",
       "      <td>6</td>\n",
       "    </tr>\n",
       "    <tr>\n",
       "      <th>65033</th>\n",
       "      <td>tt9715646</td>\n",
       "      <td>Renegade</td>\n",
       "      <td>Renegade</td>\n",
       "      <td>2019</td>\n",
       "      <td>91.0</td>\n",
       "      <td>Documentary</td>\n",
       "      <td>10.0</td>\n",
       "      <td>20</td>\n",
       "    </tr>\n",
       "  </tbody>\n",
       "</table>\n",
       "</div>"
      ],
      "text/plain": [
       "           tconst                                      primary_title  \\\n",
       "6784    tt5390098                The Paternal Bond: Barbary Macaques   \n",
       "7017    tt6295832                              Requiem voor een Boom   \n",
       "8992    tt1770682                               Freeing Bernie Baran   \n",
       "26153   tt2632430                              Hercule contre Hermès   \n",
       "27644   tt8730716                      Pick It Up! - Ska in the '90s   \n",
       "34334   tt4960818                                    Revolution Food   \n",
       "45335   tt6991826    A Dedicated Life: Phoebe Brand Beyond the Group   \n",
       "45660  tt10176328     Exteriores: Mulheres Brasileiras na Diplomacia   \n",
       "47796   tt4944240                          Dog Days in the Heartland   \n",
       "49073   tt5089804                    Fly High: Story of the Disc Dog   \n",
       "52178   tt7259300                                     Calamity Kevin   \n",
       "56819  tt10378660          The Dark Knight: The Ballad of the N Word   \n",
       "57679   tt5344358                                      All Around Us   \n",
       "59761   tt4109192                              I Was Born Yesterday!   \n",
       "64754   tt7227500  Ellis Island: The Making of a Master Race in A...   \n",
       "65033   tt9715646                                           Renegade   \n",
       "\n",
       "                                          original_title  start_year  \\\n",
       "6784   Atlas Mountain: Barbary Macaques - Childcaring...        2015   \n",
       "7017                               Requiem voor een Boom        2016   \n",
       "8992                                Freeing Bernie Baran        2010   \n",
       "26153                              Hercule contre Hermès        2012   \n",
       "27644                      Pick It Up! - Ska in the '90s        2019   \n",
       "34334                                    Revolution Food        2015   \n",
       "45335    A Dedicated Life: Phoebe Brand Beyond the Group        2015   \n",
       "45660     Exteriores: Mulheres Brasileiras na Diplomacia        2018   \n",
       "47796                          Dog Days in the Heartland        2017   \n",
       "49073                    Fly High: Story of the Disc Dog        2019   \n",
       "52178                                     Calamity Kevin        2019   \n",
       "56819          The Dark Knight: The Ballad of the N Word        2018   \n",
       "57679                                      All Around Us        2019   \n",
       "59761                              I Was Born Yesterday!        2015   \n",
       "64754  Ellis Island: The Making of a Master Race in A...        2018   \n",
       "65033                                           Renegade        2019   \n",
       "\n",
       "       runtime_minutes               genres  averagerating  numvotes  \n",
       "6784              59.0          Documentary           10.0         5  \n",
       "7017              48.0          Documentary           10.0         5  \n",
       "8992             100.0    Crime,Documentary           10.0         5  \n",
       "26153             72.0          Documentary           10.0         5  \n",
       "27644             99.0          Documentary           10.0         5  \n",
       "34334             70.0          Documentary           10.0         8  \n",
       "45335             93.0          Documentary           10.0         5  \n",
       "45660             52.0          Documentary           10.0         5  \n",
       "47796             91.0                Drama           10.0         5  \n",
       "49073             65.0          Documentary           10.0         7  \n",
       "52178             77.0     Adventure,Comedy           10.0         6  \n",
       "56819            129.0         Comedy,Drama           10.0         5  \n",
       "57679             91.0          Documentary           10.0         6  \n",
       "59761             31.0          Documentary           10.0         6  \n",
       "64754             70.0  Documentary,History           10.0         6  \n",
       "65033             91.0          Documentary           10.0        20  "
      ]
     },
     "execution_count": 25,
     "metadata": {},
     "output_type": "execute_result"
    }
   ],
   "source": [
    "# check the film with the highest averagerating\n",
    "rating_10 = merged[merged.averagerating ==10]\n",
    "rating_10"
   ]
  },
  {
   "cell_type": "code",
   "execution_count": 26,
   "metadata": {},
   "outputs": [
    {
     "data": {
      "text/plain": [
       "2019    5\n",
       "2015    4\n",
       "2018    3\n",
       "2012    1\n",
       "2010    1\n",
       "2017    1\n",
       "2016    1\n",
       "Name: start_year, dtype: int64"
      ]
     },
     "execution_count": 26,
     "metadata": {},
     "output_type": "execute_result"
    }
   ],
   "source": [
    "#checking years of films with highest rating\n",
    "rating_10.start_year.value_counts()"
   ]
  },
  {
   "cell_type": "code",
   "execution_count": 27,
   "metadata": {},
   "outputs": [
    {
     "data": {
      "text/plain": [
       "Documentary            11\n",
       "Adventure,Comedy        1\n",
       "Comedy,Drama            1\n",
       "Documentary,History     1\n",
       "Crime,Documentary       1\n",
       "Drama                   1\n",
       "Name: genres, dtype: int64"
      ]
     },
     "execution_count": 27,
     "metadata": {},
     "output_type": "execute_result"
    }
   ],
   "source": [
    "#checking genre of films with highest rating\n",
    "rating_10.genres.value_counts()"
   ]
  },
  {
   "cell_type": "markdown",
   "metadata": {},
   "source": [
    "The codes above show that (according to the dataset) majority of films were released in 2016 with the least amount of films being released in 2019. However when comparing the films that received the highest rating (per the IMDB rating scale), the highest rated films came from 2019 and with documentaries being receiving the highest ratings. When we observed the numvotes column, we noticed that the number of votes in highest ratings are relatively low. Supposed the numvotes affects the average rating?"
   ]
  },
  {
   "cell_type": "code",
   "execution_count": 28,
   "metadata": {},
   "outputs": [
    {
     "data": {
      "text/html": [
       "<div>\n",
       "<style scoped>\n",
       "    .dataframe tbody tr th:only-of-type {\n",
       "        vertical-align: middle;\n",
       "    }\n",
       "\n",
       "    .dataframe tbody tr th {\n",
       "        vertical-align: top;\n",
       "    }\n",
       "\n",
       "    .dataframe thead th {\n",
       "        text-align: right;\n",
       "    }\n",
       "</style>\n",
       "<table border=\"1\" class=\"dataframe\">\n",
       "  <thead>\n",
       "    <tr style=\"text-align: right;\">\n",
       "      <th></th>\n",
       "      <th>averagerating</th>\n",
       "      <th>numvotes</th>\n",
       "    </tr>\n",
       "  </thead>\n",
       "  <tbody>\n",
       "    <tr>\n",
       "      <th>6784</th>\n",
       "      <td>10.0</td>\n",
       "      <td>5</td>\n",
       "    </tr>\n",
       "    <tr>\n",
       "      <th>7017</th>\n",
       "      <td>10.0</td>\n",
       "      <td>5</td>\n",
       "    </tr>\n",
       "    <tr>\n",
       "      <th>8992</th>\n",
       "      <td>10.0</td>\n",
       "      <td>5</td>\n",
       "    </tr>\n",
       "    <tr>\n",
       "      <th>26153</th>\n",
       "      <td>10.0</td>\n",
       "      <td>5</td>\n",
       "    </tr>\n",
       "    <tr>\n",
       "      <th>27644</th>\n",
       "      <td>10.0</td>\n",
       "      <td>5</td>\n",
       "    </tr>\n",
       "    <tr>\n",
       "      <th>34334</th>\n",
       "      <td>10.0</td>\n",
       "      <td>8</td>\n",
       "    </tr>\n",
       "    <tr>\n",
       "      <th>45335</th>\n",
       "      <td>10.0</td>\n",
       "      <td>5</td>\n",
       "    </tr>\n",
       "    <tr>\n",
       "      <th>45660</th>\n",
       "      <td>10.0</td>\n",
       "      <td>5</td>\n",
       "    </tr>\n",
       "    <tr>\n",
       "      <th>47796</th>\n",
       "      <td>10.0</td>\n",
       "      <td>5</td>\n",
       "    </tr>\n",
       "    <tr>\n",
       "      <th>49073</th>\n",
       "      <td>10.0</td>\n",
       "      <td>7</td>\n",
       "    </tr>\n",
       "    <tr>\n",
       "      <th>52178</th>\n",
       "      <td>10.0</td>\n",
       "      <td>6</td>\n",
       "    </tr>\n",
       "    <tr>\n",
       "      <th>56819</th>\n",
       "      <td>10.0</td>\n",
       "      <td>5</td>\n",
       "    </tr>\n",
       "    <tr>\n",
       "      <th>57679</th>\n",
       "      <td>10.0</td>\n",
       "      <td>6</td>\n",
       "    </tr>\n",
       "    <tr>\n",
       "      <th>59761</th>\n",
       "      <td>10.0</td>\n",
       "      <td>6</td>\n",
       "    </tr>\n",
       "    <tr>\n",
       "      <th>64754</th>\n",
       "      <td>10.0</td>\n",
       "      <td>6</td>\n",
       "    </tr>\n",
       "    <tr>\n",
       "      <th>65033</th>\n",
       "      <td>10.0</td>\n",
       "      <td>20</td>\n",
       "    </tr>\n",
       "  </tbody>\n",
       "</table>\n",
       "</div>"
      ],
      "text/plain": [
       "       averagerating  numvotes\n",
       "6784            10.0         5\n",
       "7017            10.0         5\n",
       "8992            10.0         5\n",
       "26153           10.0         5\n",
       "27644           10.0         5\n",
       "34334           10.0         8\n",
       "45335           10.0         5\n",
       "45660           10.0         5\n",
       "47796           10.0         5\n",
       "49073           10.0         7\n",
       "52178           10.0         6\n",
       "56819           10.0         5\n",
       "57679           10.0         6\n",
       "59761           10.0         6\n",
       "64754           10.0         6\n",
       "65033           10.0        20"
      ]
     },
     "execution_count": 28,
     "metadata": {},
     "output_type": "execute_result"
    }
   ],
   "source": [
    "# rating_10 averagerating and numvotes\n",
    "rating_10[['averagerating', 'numvotes']]"
   ]
  },
  {
   "cell_type": "code",
   "execution_count": 29,
   "metadata": {},
   "outputs": [
    {
     "data": {
      "text/plain": [
       "1.0"
      ]
     },
     "execution_count": 29,
     "metadata": {},
     "output_type": "execute_result"
    }
   ],
   "source": [
    "# lowest average rating \n",
    "merged.averagerating.min()"
   ]
  },
  {
   "cell_type": "code",
   "execution_count": 30,
   "metadata": {
    "scrolled": true
   },
   "outputs": [
    {
     "data": {
      "text/html": [
       "<div>\n",
       "<style scoped>\n",
       "    .dataframe tbody tr th:only-of-type {\n",
       "        vertical-align: middle;\n",
       "    }\n",
       "\n",
       "    .dataframe tbody tr th {\n",
       "        vertical-align: top;\n",
       "    }\n",
       "\n",
       "    .dataframe thead th {\n",
       "        text-align: right;\n",
       "    }\n",
       "</style>\n",
       "<table border=\"1\" class=\"dataframe\">\n",
       "  <thead>\n",
       "    <tr style=\"text-align: right;\">\n",
       "      <th></th>\n",
       "      <th>tconst</th>\n",
       "      <th>primary_title</th>\n",
       "      <th>original_title</th>\n",
       "      <th>start_year</th>\n",
       "      <th>runtime_minutes</th>\n",
       "      <th>genres</th>\n",
       "      <th>averagerating</th>\n",
       "      <th>numvotes</th>\n",
       "    </tr>\n",
       "  </thead>\n",
       "  <tbody>\n",
       "    <tr>\n",
       "      <th>547</th>\n",
       "      <td>tt7762194</td>\n",
       "      <td>Clownfish</td>\n",
       "      <td>Clownfish</td>\n",
       "      <td>2010</td>\n",
       "      <td>83.0</td>\n",
       "      <td>Drama,Romance</td>\n",
       "      <td>1.0</td>\n",
       "      <td>67</td>\n",
       "    </tr>\n",
       "    <tr>\n",
       "      <th>1301</th>\n",
       "      <td>tt1611056</td>\n",
       "      <td>Hito no sabaku</td>\n",
       "      <td>Hito no sabaku</td>\n",
       "      <td>2010</td>\n",
       "      <td>121.0</td>\n",
       "      <td>Drama</td>\n",
       "      <td>1.0</td>\n",
       "      <td>449</td>\n",
       "    </tr>\n",
       "    <tr>\n",
       "      <th>4667</th>\n",
       "      <td>tt1872215</td>\n",
       "      <td>Tunnel Rendez-vous</td>\n",
       "      <td>Tonneru randebû</td>\n",
       "      <td>2011</td>\n",
       "      <td>91.0</td>\n",
       "      <td>Comedy</td>\n",
       "      <td>1.0</td>\n",
       "      <td>125</td>\n",
       "    </tr>\n",
       "    <tr>\n",
       "      <th>7312</th>\n",
       "      <td>tt8176282</td>\n",
       "      <td>Des figues en avril</td>\n",
       "      <td>Des figues en avril</td>\n",
       "      <td>2018</td>\n",
       "      <td>52.0</td>\n",
       "      <td>Documentary</td>\n",
       "      <td>1.0</td>\n",
       "      <td>27</td>\n",
       "    </tr>\n",
       "    <tr>\n",
       "      <th>7893</th>\n",
       "      <td>tt3855260</td>\n",
       "      <td>Yurameku</td>\n",
       "      <td>Yurameku</td>\n",
       "      <td>2014</td>\n",
       "      <td>61.0</td>\n",
       "      <td>Fantasy,Mystery,Romance</td>\n",
       "      <td>1.0</td>\n",
       "      <td>520</td>\n",
       "    </tr>\n",
       "    <tr>\n",
       "      <th>...</th>\n",
       "      <td>...</td>\n",
       "      <td>...</td>\n",
       "      <td>...</td>\n",
       "      <td>...</td>\n",
       "      <td>...</td>\n",
       "      <td>...</td>\n",
       "      <td>...</td>\n",
       "      <td>...</td>\n",
       "    </tr>\n",
       "    <tr>\n",
       "      <th>64876</th>\n",
       "      <td>tt7926296</td>\n",
       "      <td>Nakhodka interneta</td>\n",
       "      <td>Nakhodka interneta</td>\n",
       "      <td>2017</td>\n",
       "      <td>162.0</td>\n",
       "      <td>Drama</td>\n",
       "      <td>1.0</td>\n",
       "      <td>17</td>\n",
       "    </tr>\n",
       "    <tr>\n",
       "      <th>65791</th>\n",
       "      <td>tt3235258</td>\n",
       "      <td>My First Love</td>\n",
       "      <td>Hatsukoi</td>\n",
       "      <td>2013</td>\n",
       "      <td>82.0</td>\n",
       "      <td>Drama</td>\n",
       "      <td>1.0</td>\n",
       "      <td>510</td>\n",
       "    </tr>\n",
       "    <tr>\n",
       "      <th>66138</th>\n",
       "      <td>tt7831076</td>\n",
       "      <td>Yes, Sir! 7</td>\n",
       "      <td>Yes, Sir! 7</td>\n",
       "      <td>2016</td>\n",
       "      <td>111.0</td>\n",
       "      <td>Comedy,Drama</td>\n",
       "      <td>1.0</td>\n",
       "      <td>96</td>\n",
       "    </tr>\n",
       "    <tr>\n",
       "      <th>67131</th>\n",
       "      <td>tt3262718</td>\n",
       "      <td>Bye Bye Marrano</td>\n",
       "      <td>Bye Bye Marrano</td>\n",
       "      <td>2013</td>\n",
       "      <td>114.0</td>\n",
       "      <td>Drama</td>\n",
       "      <td>1.0</td>\n",
       "      <td>223</td>\n",
       "    </tr>\n",
       "    <tr>\n",
       "      <th>69717</th>\n",
       "      <td>tt5425998</td>\n",
       "      <td>Cherry Blossoms</td>\n",
       "      <td>Sakura saku</td>\n",
       "      <td>2017</td>\n",
       "      <td>91.0</td>\n",
       "      <td>Drama</td>\n",
       "      <td>1.0</td>\n",
       "      <td>20</td>\n",
       "    </tr>\n",
       "  </tbody>\n",
       "</table>\n",
       "<p>65 rows × 8 columns</p>\n",
       "</div>"
      ],
      "text/plain": [
       "          tconst        primary_title       original_title  start_year  \\\n",
       "547    tt7762194            Clownfish            Clownfish        2010   \n",
       "1301   tt1611056       Hito no sabaku       Hito no sabaku        2010   \n",
       "4667   tt1872215   Tunnel Rendez-vous      Tonneru randebû        2011   \n",
       "7312   tt8176282  Des figues en avril  Des figues en avril        2018   \n",
       "7893   tt3855260             Yurameku             Yurameku        2014   \n",
       "...          ...                  ...                  ...         ...   \n",
       "64876  tt7926296   Nakhodka interneta   Nakhodka interneta        2017   \n",
       "65791  tt3235258        My First Love             Hatsukoi        2013   \n",
       "66138  tt7831076          Yes, Sir! 7          Yes, Sir! 7        2016   \n",
       "67131  tt3262718      Bye Bye Marrano      Bye Bye Marrano        2013   \n",
       "69717  tt5425998      Cherry Blossoms          Sakura saku        2017   \n",
       "\n",
       "       runtime_minutes                   genres  averagerating  numvotes  \n",
       "547               83.0            Drama,Romance            1.0        67  \n",
       "1301             121.0                    Drama            1.0       449  \n",
       "4667              91.0                   Comedy            1.0       125  \n",
       "7312              52.0              Documentary            1.0        27  \n",
       "7893              61.0  Fantasy,Mystery,Romance            1.0       520  \n",
       "...                ...                      ...            ...       ...  \n",
       "64876            162.0                    Drama            1.0        17  \n",
       "65791             82.0                    Drama            1.0       510  \n",
       "66138            111.0             Comedy,Drama            1.0        96  \n",
       "67131            114.0                    Drama            1.0       223  \n",
       "69717             91.0                    Drama            1.0        20  \n",
       "\n",
       "[65 rows x 8 columns]"
      ]
     },
     "execution_count": 30,
     "metadata": {},
     "output_type": "execute_result"
    }
   ],
   "source": [
    "# check the film with the lowest averagerating\n",
    "rating_1 = merged[merged.averagerating == 1]\n",
    "rating_1"
   ]
  },
  {
   "cell_type": "code",
   "execution_count": 31,
   "metadata": {},
   "outputs": [
    {
     "data": {
      "text/plain": [
       "2016    14\n",
       "2011    11\n",
       "2018     9\n",
       "2015     8\n",
       "2017     5\n",
       "2014     5\n",
       "2013     4\n",
       "2012     4\n",
       "2010     4\n",
       "2019     1\n",
       "Name: start_year, dtype: int64"
      ]
     },
     "execution_count": 31,
     "metadata": {},
     "output_type": "execute_result"
    }
   ],
   "source": [
    "# checking years for films with lowest rating\n",
    "rating_1.start_year.value_counts()"
   ]
  },
  {
   "cell_type": "code",
   "execution_count": 32,
   "metadata": {},
   "outputs": [
    {
     "data": {
      "text/plain": [
       "Drama                         15\n",
       "Horror                         8\n",
       "Comedy                         7\n",
       "Comedy,Drama                   5\n",
       "Documentary                    5\n",
       "Drama,Horror,Thriller          2\n",
       "Action,Drama,Horror            1\n",
       "Horror,Thriller                1\n",
       "Adventure,Comedy               1\n",
       "Action,Horror,Thriller         1\n",
       "Adventure                      1\n",
       "Drama,Family,Romance           1\n",
       "Adventure,Animation,Family     1\n",
       "Fantasy,Mystery,Romance        1\n",
       "Adventure,Drama,Sci-Fi         1\n",
       "Animation                      1\n",
       "Romance                        1\n",
       "Comedy,Fantasy                 1\n",
       "Drama,Romance                  1\n",
       "Documentary,Music              1\n",
       "Comedy,Drama,Romance           1\n",
       "Adventure,Biography,Comedy     1\n",
       "Drama,Music                    1\n",
       "Thriller                       1\n",
       "Drama,Family                   1\n",
       "Family                         1\n",
       "Action,Sci-Fi,Thriller         1\n",
       "Comedy,Drama,Horror            1\n",
       "Name: genres, dtype: int64"
      ]
     },
     "execution_count": 32,
     "metadata": {},
     "output_type": "execute_result"
    }
   ],
   "source": [
    "# checking genres for films with lowest rating\n",
    "rating_1.genres.value_counts()"
   ]
  },
  {
   "cell_type": "code",
   "execution_count": 33,
   "metadata": {},
   "outputs": [
    {
     "data": {
      "text/html": [
       "<div>\n",
       "<style scoped>\n",
       "    .dataframe tbody tr th:only-of-type {\n",
       "        vertical-align: middle;\n",
       "    }\n",
       "\n",
       "    .dataframe tbody tr th {\n",
       "        vertical-align: top;\n",
       "    }\n",
       "\n",
       "    .dataframe thead th {\n",
       "        text-align: right;\n",
       "    }\n",
       "</style>\n",
       "<table border=\"1\" class=\"dataframe\">\n",
       "  <thead>\n",
       "    <tr style=\"text-align: right;\">\n",
       "      <th></th>\n",
       "      <th>averagerating</th>\n",
       "      <th>numvotes</th>\n",
       "    </tr>\n",
       "  </thead>\n",
       "  <tbody>\n",
       "    <tr>\n",
       "      <th>547</th>\n",
       "      <td>1.0</td>\n",
       "      <td>67</td>\n",
       "    </tr>\n",
       "    <tr>\n",
       "      <th>1301</th>\n",
       "      <td>1.0</td>\n",
       "      <td>449</td>\n",
       "    </tr>\n",
       "    <tr>\n",
       "      <th>4667</th>\n",
       "      <td>1.0</td>\n",
       "      <td>125</td>\n",
       "    </tr>\n",
       "    <tr>\n",
       "      <th>7312</th>\n",
       "      <td>1.0</td>\n",
       "      <td>27</td>\n",
       "    </tr>\n",
       "    <tr>\n",
       "      <th>7893</th>\n",
       "      <td>1.0</td>\n",
       "      <td>520</td>\n",
       "    </tr>\n",
       "    <tr>\n",
       "      <th>...</th>\n",
       "      <td>...</td>\n",
       "      <td>...</td>\n",
       "    </tr>\n",
       "    <tr>\n",
       "      <th>64876</th>\n",
       "      <td>1.0</td>\n",
       "      <td>17</td>\n",
       "    </tr>\n",
       "    <tr>\n",
       "      <th>65791</th>\n",
       "      <td>1.0</td>\n",
       "      <td>510</td>\n",
       "    </tr>\n",
       "    <tr>\n",
       "      <th>66138</th>\n",
       "      <td>1.0</td>\n",
       "      <td>96</td>\n",
       "    </tr>\n",
       "    <tr>\n",
       "      <th>67131</th>\n",
       "      <td>1.0</td>\n",
       "      <td>223</td>\n",
       "    </tr>\n",
       "    <tr>\n",
       "      <th>69717</th>\n",
       "      <td>1.0</td>\n",
       "      <td>20</td>\n",
       "    </tr>\n",
       "  </tbody>\n",
       "</table>\n",
       "<p>65 rows × 2 columns</p>\n",
       "</div>"
      ],
      "text/plain": [
       "       averagerating  numvotes\n",
       "547              1.0        67\n",
       "1301             1.0       449\n",
       "4667             1.0       125\n",
       "7312             1.0        27\n",
       "7893             1.0       520\n",
       "...              ...       ...\n",
       "64876            1.0        17\n",
       "65791            1.0       510\n",
       "66138            1.0        96\n",
       "67131            1.0       223\n",
       "69717            1.0        20\n",
       "\n",
       "[65 rows x 2 columns]"
      ]
     },
     "execution_count": 33,
     "metadata": {},
     "output_type": "execute_result"
    }
   ],
   "source": [
    "# checking rating with number of votes\n",
    "rating_1[['averagerating', 'numvotes']]"
   ]
  },
  {
   "cell_type": "markdown",
   "metadata": {},
   "source": [
    "When checking the lowest average rating for films, it's noticeable that there are significantly more that those that have the highest rating. Furthermore the most common genre for these films are dramas. The numvotes here are varying in numbers but are significantly more that the highest average rating films. The majority of these films were also released in 2016 which is aslo the year most films were released.\n",
    "\n",
    "To study the rest of the ratings, categorising them as below average, average and above_average might bring more insight.\n",
    "* `below_average`: average rating is less than 5\n",
    "* `average_`: average rating is exactly 5\n",
    "* `above_average`: average rating is more than 5"
   ]
  },
  {
   "cell_type": "code",
   "execution_count": 34,
   "metadata": {},
   "outputs": [],
   "source": [
    "# record of averageratings according to: less than 5, exactly 5, greater than 5\n",
    "below_average = merged[merged.averagerating < 5]\n",
    "average = merged[merged.averagerating == 5]\n",
    "above_average = merged[merged.averagerating > 5]"
   ]
  },
  {
   "cell_type": "code",
   "execution_count": 55,
   "metadata": {},
   "outputs": [
    {
     "name": "stdout",
     "output_type": "stream",
     "text": [
      "The below average average-rating of films are 12383 records\n",
      "The average average-rating of films  are 1059 records \n",
      "The above average average-rating of films are 60414 records\n"
     ]
    }
   ],
   "source": [
    "# how many records are there in each rating subset\n",
    "print(f\"The below average average-rating of films are {len(below_average)} records\")\n",
    "print(f\"The average average-rating of films  are {len(average)} records \")\n",
    "print(f\"The above average average-rating of films are {len(above_average)} records\")"
   ]
  },
  {
   "cell_type": "markdown",
   "metadata": {},
   "source": [
    "There's evidently more number of votes for the films that have average ratings of more than 5 while the least are those with ratings of 5. It's still unclear whether the number of votes have any effect the average rating."
   ]
  },
  {
   "cell_type": "code",
   "execution_count": 66,
   "metadata": {},
   "outputs": [
    {
     "name": "stdout",
     "output_type": "stream",
     "text": [
      "5\n",
      "279126\n"
     ]
    }
   ],
   "source": [
    "# checking max and min ratings\n",
    "print(below_average.numvotes.min())\n",
    "print(below_average.numvotes.max())"
   ]
  },
  {
   "cell_type": "code",
   "execution_count": 67,
   "metadata": {},
   "outputs": [
    {
     "name": "stdout",
     "output_type": "stream",
     "text": [
      "5\n",
      "211733\n"
     ]
    }
   ],
   "source": [
    "# checking max and min ratings\n",
    "print(average.numvotes.min())\n",
    "print(average.numvotes.max())"
   ]
  },
  {
   "cell_type": "code",
   "execution_count": 68,
   "metadata": {},
   "outputs": [
    {
     "name": "stdout",
     "output_type": "stream",
     "text": [
      "5\n",
      "1841066\n"
     ]
    }
   ],
   "source": [
    "# checking max and min ratings\n",
    "print(above_average.numvotes.min())\n",
    "print(above_average.numvotes.max())"
   ]
  },
  {
   "cell_type": "markdown",
   "metadata": {},
   "source": [
    "The information above shows that due to the large difference of minimum and maximum votes for the three rating subsets, it's possible that the number of votes have little impact on the average rating. To confirm this theory, the ratings FAQ on https://help.imdb.com/article/imdb/track-movies-tv/ratings-faq/G67Y87TFYYP6TWAV?showReportContentLink=false# gives this insight on **The rating on a title changed even though the total number of votes did not. Can you explain this?** as :\n",
    "\n",
    "*There are several possible explanations for this. First, users are allowed to delete their own votes. So if the rating changes even when the total doesn't, it usually means that some people have deleted their vote while the same number of people have added theirs. Another common explanation is that the weight assigned to votes cast by certain users has changed, so the weighted rating will be affected even when no new votes have been cast.\n",
    "Finally, please remember that our voting system is always being improved and the formulas used to calculate ratings (and defeat ballot stuffing) are tweaked regularly -- weighted ratings are frequently recalculated, so when the formula is changed the ratings will also change even without new votes.*\n",
    "\n",
    "Therefore, number of votes shall considered as inherently non-influential to average_ratings\n"
   ]
  },
  {
   "cell_type": "markdown",
   "metadata": {},
   "source": [
    "**Average ratings vs. Genres:**\n",
    "\n",
    "It was already noticed that the highests average rated film genre was documentaries whereas the least was drama. However it would be interesting to view this distrubution in the three rating subsets."
   ]
  },
  {
   "cell_type": "code",
   "execution_count": 146,
   "metadata": {},
   "outputs": [
    {
     "data": {
      "text/plain": [
       "Comedy             1520\n",
       "Horror             1447\n",
       "Drama              1088\n",
       "Horror,Thriller     560\n",
       "Thriller            481\n",
       "Documentary         325\n",
       "Action              305\n",
       "Comedy,Drama        300\n",
       "Comedy,Romance      248\n",
       "Comedy,Horror       243\n",
       "Name: genres, dtype: int64"
      ]
     },
     "execution_count": 146,
     "metadata": {},
     "output_type": "execute_result"
    }
   ],
   "source": [
    "#top 10 genres with below average ratings\n",
    "below_top10 = below_average.genres.value_counts()[:10]\n",
    "below_top10"
   ]
  },
  {
   "cell_type": "code",
   "execution_count": 150,
   "metadata": {
    "scrolled": true
   },
   "outputs": [
    {
     "data": {
      "image/png": "[encoded data removed]",
      "text/plain": [
       "<Figure size 1080x720 with 1 Axes>"
      ]
     },
     "metadata": {},
     "output_type": "display_data"
    }
   ],
   "source": [
    "# plotting genres lowest rating\n",
    "fig, ax = plt.subplots(figsize=(15,10))\n",
    "\n",
    "x= below_top10.index # genre names\n",
    "y= below_top10\n",
    "plt.style.use('ggplot')\n",
    "ax.barh(x, y, color='orange', alpha=1)\n",
    "ax.set_ylabel('Genres')\n",
    "ax.set_xlabel('Number of films')\n",
    "ax.set_title('Genres of Films with Below Average Average-Rating');"
   ]
  },
  {
   "cell_type": "code",
   "execution_count": 92,
   "metadata": {},
   "outputs": [
    {
     "data": {
      "text/plain": [
       "Drama                   10395\n",
       "Documentary              9936\n",
       "Comedy                   3972\n",
       "Comedy,Drama             2277\n",
       "Drama,Romance            1311\n",
       "Horror                   1188\n",
       "Comedy,Drama,Romance     1065\n",
       "Thriller                 1027\n",
       "Comedy,Romance            959\n",
       "Drama,Thriller            799\n",
       "Name: genres, dtype: int64"
      ]
     },
     "execution_count": 92,
     "metadata": {},
     "output_type": "execute_result"
    }
   ],
   "source": [
    "#top 10 genres with below average ratings\n",
    "above_top10 = above_average.genres.value_counts()[:10]\n",
    "above_top10"
   ]
  },
  {
   "cell_type": "code",
   "execution_count": 149,
   "metadata": {},
   "outputs": [
    {
     "data": {
      "image/png": "[encoded data removed]",
      "text/plain": [
       "<Figure size 1080x720 with 1 Axes>"
      ]
     },
     "metadata": {},
     "output_type": "display_data"
    }
   ],
   "source": [
    "# plotting genres lowest rating\n",
    "fig, ax = plt.subplots(figsize=(15,10))\n",
    "\n",
    "x= above_top10.index # genre names\n",
    "y= above_top10\n",
    "\n",
    "ax.barh(x, y, color='purple', alpha=1)\n",
    "ax.set_ylabel('Genres')\n",
    "ax.set_xlabel('Number of films')\n",
    "ax.set_title('Genres of Films with Above Average Average-Rating');"
   ]
  },
  {
   "cell_type": "markdown",
   "metadata": {},
   "source": [
    "The two graphs show that comedy tends to receive lower ratings whereas drama receives above average ratings. However when it comes to the highest rating (10/10), this is still occupied by documentaries. Horror especially comedy-horrors tends to get below average ratings as seen above Furthermore due to several films being of multi-genre. Therefore, it's easier to infer that documentaries are the only films not catergorised as multi-genre i.e. feature as a cross-genre and have high ratings."
   ]
  },
  {
   "cell_type": "markdown",
   "metadata": {},
   "source": [
    "**Gross Revenue:**\n",
    "\n",
    "Studying the stastical data of gross earning for films will require merging both dataframe by a key i.e their title. This will involve converting the column names for title to be the same and then performing the merge."
   ]
  },
  {
   "cell_type": "code",
   "execution_count": 104,
   "metadata": {
    "scrolled": true
   },
   "outputs": [
    {
     "data": {
      "text/html": [
       "<div>\n",
       "<style scoped>\n",
       "    .dataframe tbody tr th:only-of-type {\n",
       "        vertical-align: middle;\n",
       "    }\n",
       "\n",
       "    .dataframe tbody tr th {\n",
       "        vertical-align: top;\n",
       "    }\n",
       "\n",
       "    .dataframe thead th {\n",
       "        text-align: right;\n",
       "    }\n",
       "</style>\n",
       "<table border=\"1\" class=\"dataframe\">\n",
       "  <thead>\n",
       "    <tr style=\"text-align: right;\">\n",
       "      <th></th>\n",
       "      <th>primary_title</th>\n",
       "      <th>studio</th>\n",
       "      <th>domestic_gross</th>\n",
       "      <th>year</th>\n",
       "    </tr>\n",
       "  </thead>\n",
       "  <tbody>\n",
       "    <tr>\n",
       "      <th>0</th>\n",
       "      <td>Toy Story 3</td>\n",
       "      <td>BV</td>\n",
       "      <td>415000000.0</td>\n",
       "      <td>2010</td>\n",
       "    </tr>\n",
       "    <tr>\n",
       "      <th>1</th>\n",
       "      <td>Alice in Wonderland (2010)</td>\n",
       "      <td>BV</td>\n",
       "      <td>334200000.0</td>\n",
       "      <td>2010</td>\n",
       "    </tr>\n",
       "    <tr>\n",
       "      <th>2</th>\n",
       "      <td>Harry Potter and the Deathly Hallows Part 1</td>\n",
       "      <td>WB</td>\n",
       "      <td>296000000.0</td>\n",
       "      <td>2010</td>\n",
       "    </tr>\n",
       "    <tr>\n",
       "      <th>3</th>\n",
       "      <td>Inception</td>\n",
       "      <td>WB</td>\n",
       "      <td>292600000.0</td>\n",
       "      <td>2010</td>\n",
       "    </tr>\n",
       "    <tr>\n",
       "      <th>4</th>\n",
       "      <td>Shrek Forever After</td>\n",
       "      <td>P/DW</td>\n",
       "      <td>238700000.0</td>\n",
       "      <td>2010</td>\n",
       "    </tr>\n",
       "    <tr>\n",
       "      <th>...</th>\n",
       "      <td>...</td>\n",
       "      <td>...</td>\n",
       "      <td>...</td>\n",
       "      <td>...</td>\n",
       "    </tr>\n",
       "    <tr>\n",
       "      <th>3382</th>\n",
       "      <td>The Quake</td>\n",
       "      <td>Magn.</td>\n",
       "      <td>6200.0</td>\n",
       "      <td>2018</td>\n",
       "    </tr>\n",
       "    <tr>\n",
       "      <th>3383</th>\n",
       "      <td>Edward II (2018 re-release)</td>\n",
       "      <td>FM</td>\n",
       "      <td>4800.0</td>\n",
       "      <td>2018</td>\n",
       "    </tr>\n",
       "    <tr>\n",
       "      <th>3384</th>\n",
       "      <td>El Pacto</td>\n",
       "      <td>Sony</td>\n",
       "      <td>2500.0</td>\n",
       "      <td>2018</td>\n",
       "    </tr>\n",
       "    <tr>\n",
       "      <th>3385</th>\n",
       "      <td>The Swan</td>\n",
       "      <td>Synergetic</td>\n",
       "      <td>2400.0</td>\n",
       "      <td>2018</td>\n",
       "    </tr>\n",
       "    <tr>\n",
       "      <th>3386</th>\n",
       "      <td>An Actor Prepares</td>\n",
       "      <td>Grav.</td>\n",
       "      <td>1700.0</td>\n",
       "      <td>2018</td>\n",
       "    </tr>\n",
       "  </tbody>\n",
       "</table>\n",
       "<p>3387 rows × 4 columns</p>\n",
       "</div>"
      ],
      "text/plain": [
       "                                    primary_title      studio  domestic_gross  \\\n",
       "0                                     Toy Story 3          BV     415000000.0   \n",
       "1                      Alice in Wonderland (2010)          BV     334200000.0   \n",
       "2     Harry Potter and the Deathly Hallows Part 1          WB     296000000.0   \n",
       "3                                       Inception          WB     292600000.0   \n",
       "4                             Shrek Forever After        P/DW     238700000.0   \n",
       "...                                           ...         ...             ...   \n",
       "3382                                    The Quake       Magn.          6200.0   \n",
       "3383                  Edward II (2018 re-release)          FM          4800.0   \n",
       "3384                                     El Pacto        Sony          2500.0   \n",
       "3385                                     The Swan  Synergetic          2400.0   \n",
       "3386                            An Actor Prepares       Grav.          1700.0   \n",
       "\n",
       "      year  \n",
       "0     2010  \n",
       "1     2010  \n",
       "2     2010  \n",
       "3     2010  \n",
       "4     2010  \n",
       "...    ...  \n",
       "3382  2018  \n",
       "3383  2018  \n",
       "3384  2018  \n",
       "3385  2018  \n",
       "3386  2018  \n",
       "\n",
       "[3387 rows x 4 columns]"
      ]
     },
     "execution_count": 104,
     "metadata": {},
     "output_type": "execute_result"
    }
   ],
   "source": [
    "# change column name\n",
    "gross.rename(columns= {'title' : 'primary_title'}, inplace=True)\n",
    "gross"
   ]
  },
  {
   "cell_type": "code",
   "execution_count": 108,
   "metadata": {
    "scrolled": true
   },
   "outputs": [
    {
     "data": {
      "text/html": [
       "<div>\n",
       "<style scoped>\n",
       "    .dataframe tbody tr th:only-of-type {\n",
       "        vertical-align: middle;\n",
       "    }\n",
       "\n",
       "    .dataframe tbody tr th {\n",
       "        vertical-align: top;\n",
       "    }\n",
       "\n",
       "    .dataframe thead th {\n",
       "        text-align: right;\n",
       "    }\n",
       "</style>\n",
       "<table border=\"1\" class=\"dataframe\">\n",
       "  <thead>\n",
       "    <tr style=\"text-align: right;\">\n",
       "      <th></th>\n",
       "      <th>primary_title</th>\n",
       "      <th>studio</th>\n",
       "      <th>domestic_gross</th>\n",
       "      <th>year</th>\n",
       "      <th>original_title</th>\n",
       "      <th>start_year</th>\n",
       "      <th>runtime_minutes</th>\n",
       "      <th>genres</th>\n",
       "      <th>averagerating</th>\n",
       "      <th>numvotes</th>\n",
       "    </tr>\n",
       "  </thead>\n",
       "  <tbody>\n",
       "    <tr>\n",
       "      <th>0</th>\n",
       "      <td>Toy Story 3</td>\n",
       "      <td>BV</td>\n",
       "      <td>415000000.0</td>\n",
       "      <td>2010</td>\n",
       "      <td>Toy Story 3</td>\n",
       "      <td>2010</td>\n",
       "      <td>103.0</td>\n",
       "      <td>Adventure,Animation,Comedy</td>\n",
       "      <td>8.3</td>\n",
       "      <td>682218</td>\n",
       "    </tr>\n",
       "    <tr>\n",
       "      <th>1</th>\n",
       "      <td>Inception</td>\n",
       "      <td>WB</td>\n",
       "      <td>292600000.0</td>\n",
       "      <td>2010</td>\n",
       "      <td>Inception</td>\n",
       "      <td>2010</td>\n",
       "      <td>148.0</td>\n",
       "      <td>Action,Adventure,Sci-Fi</td>\n",
       "      <td>8.8</td>\n",
       "      <td>1841066</td>\n",
       "    </tr>\n",
       "    <tr>\n",
       "      <th>2</th>\n",
       "      <td>Shrek Forever After</td>\n",
       "      <td>P/DW</td>\n",
       "      <td>238700000.0</td>\n",
       "      <td>2010</td>\n",
       "      <td>Shrek Forever After</td>\n",
       "      <td>2010</td>\n",
       "      <td>93.0</td>\n",
       "      <td>Adventure,Animation,Comedy</td>\n",
       "      <td>6.3</td>\n",
       "      <td>167532</td>\n",
       "    </tr>\n",
       "    <tr>\n",
       "      <th>3</th>\n",
       "      <td>The Twilight Saga: Eclipse</td>\n",
       "      <td>Sum.</td>\n",
       "      <td>300500000.0</td>\n",
       "      <td>2010</td>\n",
       "      <td>The Twilight Saga: Eclipse</td>\n",
       "      <td>2010</td>\n",
       "      <td>124.0</td>\n",
       "      <td>Adventure,Drama,Fantasy</td>\n",
       "      <td>5.0</td>\n",
       "      <td>211733</td>\n",
       "    </tr>\n",
       "    <tr>\n",
       "      <th>4</th>\n",
       "      <td>Iron Man 2</td>\n",
       "      <td>Par.</td>\n",
       "      <td>312400000.0</td>\n",
       "      <td>2010</td>\n",
       "      <td>Iron Man 2</td>\n",
       "      <td>2010</td>\n",
       "      <td>124.0</td>\n",
       "      <td>Action,Adventure,Sci-Fi</td>\n",
       "      <td>7.0</td>\n",
       "      <td>657690</td>\n",
       "    </tr>\n",
       "    <tr>\n",
       "      <th>...</th>\n",
       "      <td>...</td>\n",
       "      <td>...</td>\n",
       "      <td>...</td>\n",
       "      <td>...</td>\n",
       "      <td>...</td>\n",
       "      <td>...</td>\n",
       "      <td>...</td>\n",
       "      <td>...</td>\n",
       "      <td>...</td>\n",
       "      <td>...</td>\n",
       "    </tr>\n",
       "    <tr>\n",
       "      <th>3022</th>\n",
       "      <td>Souvenir</td>\n",
       "      <td>Strand</td>\n",
       "      <td>11400.0</td>\n",
       "      <td>2018</td>\n",
       "      <td>Souvenir</td>\n",
       "      <td>2016</td>\n",
       "      <td>90.0</td>\n",
       "      <td>Drama,Music,Romance</td>\n",
       "      <td>6.0</td>\n",
       "      <td>823</td>\n",
       "    </tr>\n",
       "    <tr>\n",
       "      <th>3023</th>\n",
       "      <td>Souvenir</td>\n",
       "      <td>Strand</td>\n",
       "      <td>11400.0</td>\n",
       "      <td>2018</td>\n",
       "      <td>Souvenir</td>\n",
       "      <td>2014</td>\n",
       "      <td>86.0</td>\n",
       "      <td>Comedy,Romance</td>\n",
       "      <td>5.9</td>\n",
       "      <td>9</td>\n",
       "    </tr>\n",
       "    <tr>\n",
       "      <th>3024</th>\n",
       "      <td>Beauty and the Dogs</td>\n",
       "      <td>Osci.</td>\n",
       "      <td>8900.0</td>\n",
       "      <td>2018</td>\n",
       "      <td>Aala Kaf Ifrit</td>\n",
       "      <td>2017</td>\n",
       "      <td>100.0</td>\n",
       "      <td>Crime,Drama,Thriller</td>\n",
       "      <td>7.0</td>\n",
       "      <td>1016</td>\n",
       "    </tr>\n",
       "    <tr>\n",
       "      <th>3025</th>\n",
       "      <td>The Quake</td>\n",
       "      <td>Magn.</td>\n",
       "      <td>6200.0</td>\n",
       "      <td>2018</td>\n",
       "      <td>Skjelvet</td>\n",
       "      <td>2018</td>\n",
       "      <td>106.0</td>\n",
       "      <td>Action,Drama,Thriller</td>\n",
       "      <td>6.2</td>\n",
       "      <td>5270</td>\n",
       "    </tr>\n",
       "    <tr>\n",
       "      <th>3026</th>\n",
       "      <td>An Actor Prepares</td>\n",
       "      <td>Grav.</td>\n",
       "      <td>1700.0</td>\n",
       "      <td>2018</td>\n",
       "      <td>An Actor Prepares</td>\n",
       "      <td>2018</td>\n",
       "      <td>97.0</td>\n",
       "      <td>Comedy</td>\n",
       "      <td>5.0</td>\n",
       "      <td>388</td>\n",
       "    </tr>\n",
       "  </tbody>\n",
       "</table>\n",
       "<p>3027 rows × 10 columns</p>\n",
       "</div>"
      ],
      "text/plain": [
       "                   primary_title  studio  domestic_gross  year  \\\n",
       "0                    Toy Story 3      BV     415000000.0  2010   \n",
       "1                      Inception      WB     292600000.0  2010   \n",
       "2            Shrek Forever After    P/DW     238700000.0  2010   \n",
       "3     The Twilight Saga: Eclipse    Sum.     300500000.0  2010   \n",
       "4                     Iron Man 2    Par.     312400000.0  2010   \n",
       "...                          ...     ...             ...   ...   \n",
       "3022                    Souvenir  Strand         11400.0  2018   \n",
       "3023                    Souvenir  Strand         11400.0  2018   \n",
       "3024         Beauty and the Dogs   Osci.          8900.0  2018   \n",
       "3025                   The Quake   Magn.          6200.0  2018   \n",
       "3026           An Actor Prepares   Grav.          1700.0  2018   \n",
       "\n",
       "                  original_title  start_year  runtime_minutes  \\\n",
       "0                    Toy Story 3        2010            103.0   \n",
       "1                      Inception        2010            148.0   \n",
       "2            Shrek Forever After        2010             93.0   \n",
       "3     The Twilight Saga: Eclipse        2010            124.0   \n",
       "4                     Iron Man 2        2010            124.0   \n",
       "...                          ...         ...              ...   \n",
       "3022                    Souvenir        2016             90.0   \n",
       "3023                    Souvenir        2014             86.0   \n",
       "3024              Aala Kaf Ifrit        2017            100.0   \n",
       "3025                    Skjelvet        2018            106.0   \n",
       "3026           An Actor Prepares        2018             97.0   \n",
       "\n",
       "                          genres  averagerating  numvotes  \n",
       "0     Adventure,Animation,Comedy            8.3    682218  \n",
       "1        Action,Adventure,Sci-Fi            8.8   1841066  \n",
       "2     Adventure,Animation,Comedy            6.3    167532  \n",
       "3        Adventure,Drama,Fantasy            5.0    211733  \n",
       "4        Action,Adventure,Sci-Fi            7.0    657690  \n",
       "...                          ...            ...       ...  \n",
       "3022         Drama,Music,Romance            6.0       823  \n",
       "3023              Comedy,Romance            5.9         9  \n",
       "3024        Crime,Drama,Thriller            7.0      1016  \n",
       "3025       Action,Drama,Thriller            6.2      5270  \n",
       "3026                      Comedy            5.0       388  \n",
       "\n",
       "[3027 rows x 10 columns]"
      ]
     },
     "execution_count": 108,
     "metadata": {},
     "output_type": "execute_result"
    }
   ],
   "source": [
    "# merging dataframes\n",
    "merged_2 = gross.merge(merged, on='primary_title', how='inner')\n",
    "\n",
    "#dropping 'tconst' column\n",
    "merged_2 = merged_2.drop('tconst', axis=1)\n",
    "merged_2"
   ]
  },
  {
   "cell_type": "code",
   "execution_count": 155,
   "metadata": {
    "scrolled": false
   },
   "outputs": [
    {
     "data": {
      "text/html": [
       "<div>\n",
       "<style scoped>\n",
       "    .dataframe tbody tr th:only-of-type {\n",
       "        vertical-align: middle;\n",
       "    }\n",
       "\n",
       "    .dataframe tbody tr th {\n",
       "        vertical-align: top;\n",
       "    }\n",
       "\n",
       "    .dataframe thead th {\n",
       "        text-align: right;\n",
       "    }\n",
       "</style>\n",
       "<table border=\"1\" class=\"dataframe\">\n",
       "  <thead>\n",
       "    <tr style=\"text-align: right;\">\n",
       "      <th></th>\n",
       "      <th>primary_title</th>\n",
       "      <th>domestic_gross</th>\n",
       "      <th>runtime_minutes</th>\n",
       "      <th>genres</th>\n",
       "    </tr>\n",
       "  </thead>\n",
       "  <tbody>\n",
       "    <tr>\n",
       "      <th>0</th>\n",
       "      <td>Toy Story 3</td>\n",
       "      <td>415000000.0</td>\n",
       "      <td>103.0</td>\n",
       "      <td>Adventure,Animation,Comedy</td>\n",
       "    </tr>\n",
       "    <tr>\n",
       "      <th>1</th>\n",
       "      <td>Inception</td>\n",
       "      <td>292600000.0</td>\n",
       "      <td>148.0</td>\n",
       "      <td>Action,Adventure,Sci-Fi</td>\n",
       "    </tr>\n",
       "    <tr>\n",
       "      <th>2</th>\n",
       "      <td>Shrek Forever After</td>\n",
       "      <td>238700000.0</td>\n",
       "      <td>93.0</td>\n",
       "      <td>Adventure,Animation,Comedy</td>\n",
       "    </tr>\n",
       "    <tr>\n",
       "      <th>3</th>\n",
       "      <td>The Twilight Saga: Eclipse</td>\n",
       "      <td>300500000.0</td>\n",
       "      <td>124.0</td>\n",
       "      <td>Adventure,Drama,Fantasy</td>\n",
       "    </tr>\n",
       "    <tr>\n",
       "      <th>4</th>\n",
       "      <td>Iron Man 2</td>\n",
       "      <td>312400000.0</td>\n",
       "      <td>124.0</td>\n",
       "      <td>Action,Adventure,Sci-Fi</td>\n",
       "    </tr>\n",
       "    <tr>\n",
       "      <th>5</th>\n",
       "      <td>Tangled</td>\n",
       "      <td>200800000.0</td>\n",
       "      <td>100.0</td>\n",
       "      <td>Adventure,Animation,Comedy</td>\n",
       "    </tr>\n",
       "    <tr>\n",
       "      <th>6</th>\n",
       "      <td>Despicable Me</td>\n",
       "      <td>251500000.0</td>\n",
       "      <td>95.0</td>\n",
       "      <td>Animation,Comedy,Family</td>\n",
       "    </tr>\n",
       "    <tr>\n",
       "      <th>7</th>\n",
       "      <td>How to Train Your Dragon</td>\n",
       "      <td>217600000.0</td>\n",
       "      <td>98.0</td>\n",
       "      <td>Action,Adventure,Animation</td>\n",
       "    </tr>\n",
       "    <tr>\n",
       "      <th>8</th>\n",
       "      <td>The Chronicles of Narnia: The Voyage of the Da...</td>\n",
       "      <td>104400000.0</td>\n",
       "      <td>113.0</td>\n",
       "      <td>Adventure,Family,Fantasy</td>\n",
       "    </tr>\n",
       "    <tr>\n",
       "      <th>9</th>\n",
       "      <td>The King's Speech</td>\n",
       "      <td>135500000.0</td>\n",
       "      <td>118.0</td>\n",
       "      <td>Biography,Drama,History</td>\n",
       "    </tr>\n",
       "    <tr>\n",
       "      <th>10</th>\n",
       "      <td>The Karate Kid</td>\n",
       "      <td>176600000.0</td>\n",
       "      <td>140.0</td>\n",
       "      <td>Action,Drama,Family</td>\n",
       "    </tr>\n",
       "    <tr>\n",
       "      <th>11</th>\n",
       "      <td>Prince of Persia: The Sands of Time</td>\n",
       "      <td>90800000.0</td>\n",
       "      <td>116.0</td>\n",
       "      <td>Action,Adventure,Fantasy</td>\n",
       "    </tr>\n",
       "    <tr>\n",
       "      <th>12</th>\n",
       "      <td>Black Swan</td>\n",
       "      <td>107000000.0</td>\n",
       "      <td>108.0</td>\n",
       "      <td>Drama,Thriller</td>\n",
       "    </tr>\n",
       "    <tr>\n",
       "      <th>13</th>\n",
       "      <td>Megamind</td>\n",
       "      <td>148400000.0</td>\n",
       "      <td>95.0</td>\n",
       "      <td>Action,Animation,Comedy</td>\n",
       "    </tr>\n",
       "    <tr>\n",
       "      <th>14</th>\n",
       "      <td>Robin Hood</td>\n",
       "      <td>105300000.0</td>\n",
       "      <td>91.0</td>\n",
       "      <td>NaN</td>\n",
       "    </tr>\n",
       "  </tbody>\n",
       "</table>\n",
       "</div>"
      ],
      "text/plain": [
       "                                        primary_title  domestic_gross  \\\n",
       "0                                         Toy Story 3     415000000.0   \n",
       "1                                           Inception     292600000.0   \n",
       "2                                 Shrek Forever After     238700000.0   \n",
       "3                          The Twilight Saga: Eclipse     300500000.0   \n",
       "4                                          Iron Man 2     312400000.0   \n",
       "5                                             Tangled     200800000.0   \n",
       "6                                       Despicable Me     251500000.0   \n",
       "7                            How to Train Your Dragon     217600000.0   \n",
       "8   The Chronicles of Narnia: The Voyage of the Da...     104400000.0   \n",
       "9                                   The King's Speech     135500000.0   \n",
       "10                                     The Karate Kid     176600000.0   \n",
       "11                Prince of Persia: The Sands of Time      90800000.0   \n",
       "12                                         Black Swan     107000000.0   \n",
       "13                                           Megamind     148400000.0   \n",
       "14                                         Robin Hood     105300000.0   \n",
       "\n",
       "    runtime_minutes                      genres  \n",
       "0             103.0  Adventure,Animation,Comedy  \n",
       "1             148.0     Action,Adventure,Sci-Fi  \n",
       "2              93.0  Adventure,Animation,Comedy  \n",
       "3             124.0     Adventure,Drama,Fantasy  \n",
       "4             124.0     Action,Adventure,Sci-Fi  \n",
       "5             100.0  Adventure,Animation,Comedy  \n",
       "6              95.0     Animation,Comedy,Family  \n",
       "7              98.0  Action,Adventure,Animation  \n",
       "8             113.0    Adventure,Family,Fantasy  \n",
       "9             118.0     Biography,Drama,History  \n",
       "10            140.0         Action,Drama,Family  \n",
       "11            116.0    Action,Adventure,Fantasy  \n",
       "12            108.0              Drama,Thriller  \n",
       "13             95.0     Action,Animation,Comedy  \n",
       "14             91.0                         NaN  "
      ]
     },
     "execution_count": 155,
     "metadata": {},
     "output_type": "execute_result"
    }
   ],
   "source": [
    "#checking top 10 films with the highest domestic gross.\n",
    "highest_gross = merged_2[['primary_title', 'domestic_gross', 'runtime_minutes', 'genres']][:15]\n",
    "highest_gross"
   ]
  },
  {
   "cell_type": "code",
   "execution_count": 156,
   "metadata": {},
   "outputs": [
    {
     "data": {
      "text/plain": [
       "111.06666666666666"
      ]
     },
     "execution_count": 156,
     "metadata": {},
     "output_type": "execute_result"
    }
   ],
   "source": [
    "# running time average:\n",
    "highest_gross.runtime_minutes.mean()"
   ]
  },
  {
   "cell_type": "markdown",
   "metadata": {},
   "source": [
    "When it comes to box office sales, the films that did well were inherently multi-genre. Animations are one of the highest grossing film genres domestically. Let's if there is any correlation between domestic_gross and averageratings. Futhermore, the running times for these films are at most 148 minutes (non-animation) and 90-95 minutes shortest."
   ]
  },
  {
   "cell_type": "code",
   "execution_count": 143,
   "metadata": {},
   "outputs": [
    {
     "name": "stdout",
     "output_type": "stream",
     "text": [
      "The correlation of earnings and rating is: 0.12\n"
     ]
    },
    {
     "data": {
      "image/png": "[encoded data removed]",
      "text/plain": [
       "<Figure size 720x576 with 1 Axes>"
      ]
     },
     "metadata": {},
     "output_type": "display_data"
    }
   ],
   "source": [
    "# checking correlation\n",
    "correlation = merged_2.domestic_gross.corr(merged_2.averagerating)\n",
    "print('The correlation of earnings and rating is:', round(correlation, 2))\n",
    "\n",
    "#plotting scatter plot\n",
    "fig, ax = plt.subplots(figsize=(10,8))\n",
    "\n",
    "ax.scatter(merged_2.averagerating, merged_2.domestic_gross, color='red', alpha=0.5)\n",
    "ax.set_ylabel('Domestic Gross')\n",
    "ax.set_xlabel('Average Ratings')\n",
    "ax.set_title('Average Ratings vs Gross Earnings in Domestic Box Office');"
   ]
  },
  {
   "cell_type": "markdown",
   "metadata": {},
   "source": [
    "The correlation value of 0.12 shows there is no definite linear relationship between the rating and earnings. It is like for a show to get good rating despite it not having a great box office earning. Let's check correlations in the rest of the dataframe."
   ]
  },
  {
   "cell_type": "code",
   "execution_count": 151,
   "metadata": {},
   "outputs": [
    {
     "data": {
      "text/html": [
       "<div>\n",
       "<style scoped>\n",
       "    .dataframe tbody tr th:only-of-type {\n",
       "        vertical-align: middle;\n",
       "    }\n",
       "\n",
       "    .dataframe tbody tr th {\n",
       "        vertical-align: top;\n",
       "    }\n",
       "\n",
       "    .dataframe thead th {\n",
       "        text-align: right;\n",
       "    }\n",
       "</style>\n",
       "<table border=\"1\" class=\"dataframe\">\n",
       "  <thead>\n",
       "    <tr style=\"text-align: right;\">\n",
       "      <th></th>\n",
       "      <th>domestic_gross</th>\n",
       "      <th>year</th>\n",
       "      <th>start_year</th>\n",
       "      <th>runtime_minutes</th>\n",
       "      <th>averagerating</th>\n",
       "      <th>numvotes</th>\n",
       "    </tr>\n",
       "  </thead>\n",
       "  <tbody>\n",
       "    <tr>\n",
       "      <th>domestic_gross</th>\n",
       "      <td>1.000000</td>\n",
       "      <td>0.009923</td>\n",
       "      <td>0.038711</td>\n",
       "      <td>0.126583</td>\n",
       "      <td>0.119574</td>\n",
       "      <td>0.664792</td>\n",
       "    </tr>\n",
       "    <tr>\n",
       "      <th>year</th>\n",
       "      <td>0.009923</td>\n",
       "      <td>1.000000</td>\n",
       "      <td>0.808273</td>\n",
       "      <td>0.034245</td>\n",
       "      <td>0.040499</td>\n",
       "      <td>-0.121836</td>\n",
       "    </tr>\n",
       "    <tr>\n",
       "      <th>start_year</th>\n",
       "      <td>0.038711</td>\n",
       "      <td>0.808273</td>\n",
       "      <td>1.000000</td>\n",
       "      <td>0.079682</td>\n",
       "      <td>-0.004172</td>\n",
       "      <td>-0.078001</td>\n",
       "    </tr>\n",
       "    <tr>\n",
       "      <th>runtime_minutes</th>\n",
       "      <td>0.126583</td>\n",
       "      <td>0.034245</td>\n",
       "      <td>0.079682</td>\n",
       "      <td>1.000000</td>\n",
       "      <td>0.149809</td>\n",
       "      <td>0.264611</td>\n",
       "    </tr>\n",
       "    <tr>\n",
       "      <th>averagerating</th>\n",
       "      <td>0.119574</td>\n",
       "      <td>0.040499</td>\n",
       "      <td>-0.004172</td>\n",
       "      <td>0.149809</td>\n",
       "      <td>1.000000</td>\n",
       "      <td>0.278394</td>\n",
       "    </tr>\n",
       "    <tr>\n",
       "      <th>numvotes</th>\n",
       "      <td>0.664792</td>\n",
       "      <td>-0.121836</td>\n",
       "      <td>-0.078001</td>\n",
       "      <td>0.264611</td>\n",
       "      <td>0.278394</td>\n",
       "      <td>1.000000</td>\n",
       "    </tr>\n",
       "  </tbody>\n",
       "</table>\n",
       "</div>"
      ],
      "text/plain": [
       "                 domestic_gross      year  start_year  runtime_minutes  \\\n",
       "domestic_gross         1.000000  0.009923    0.038711         0.126583   \n",
       "year                   0.009923  1.000000    0.808273         0.034245   \n",
       "start_year             0.038711  0.808273    1.000000         0.079682   \n",
       "runtime_minutes        0.126583  0.034245    0.079682         1.000000   \n",
       "averagerating          0.119574  0.040499   -0.004172         0.149809   \n",
       "numvotes               0.664792 -0.121836   -0.078001         0.264611   \n",
       "\n",
       "                 averagerating  numvotes  \n",
       "domestic_gross        0.119574  0.664792  \n",
       "year                  0.040499 -0.121836  \n",
       "start_year           -0.004172 -0.078001  \n",
       "runtime_minutes       0.149809  0.264611  \n",
       "averagerating         1.000000  0.278394  \n",
       "numvotes              0.278394  1.000000  "
      ]
     },
     "execution_count": 151,
     "metadata": {},
     "output_type": "execute_result"
    }
   ],
   "source": [
    "merged_2.corr()"
   ]
  },
  {
   "cell_type": "markdown",
   "metadata": {},
   "source": [
    "The above table shows correlation of the columns with numerical values in the dataframe. As observed, nearly of the correlations are at around which signfies a lack of correlation between those various variables. Only a few have negative digits in their correlations which means an increase in the other most likely has an opposite effect on the other but these have to do with dates so they are negligible."
   ]
  },
  {
   "cell_type": "markdown",
   "metadata": {},
   "source": [
    "### 3. Evaluations and Insight: Solutions to the problem\n",
    "\n",
    "As observed, there are various factors that are considered in making a film. For most studios, the important aspect is the box office return earnings from the film. However some films are not released in box office and are only available for streaming and this may not reflect in the box office sales. After studying the datasets from IMBD and Box Office Mojo, I have come to the conclusion that for a studio to create films for the general public:\n",
    "\n",
    "They should consider genres, running time and of course the earnings. The genres for box office release will differ from those for streaming. I'd suggest to guarantee high ratings from streaming, documentaries be the intial area of focus. When it comes to theatrical releases, multi-genre films would be best. Animation tends to earn higher in box office returns due their family friendly nature. The running times for films should fall at around 100 minutes for animations and should not exceed 150 minutes for actions,sci-fi and fantasy to keep people attentive. "
   ]
  }
 ],
 "metadata": {
  "kernelspec": {
   "display_name": "Python 3",
   "language": "python",
   "name": "python3"
  },
  "language_info": {
   "codemirror_mode": {
    "name": "ipython",
    "version": 3
   },
   "file_extension": ".py",
   "mimetype": "text/x-python",
   "name": "python",
   "nbconvert_exporter": "python",
   "pygments_lexer": "ipython3",
   "version": "3.8.5"
  }
 },
 "nbformat": 4,
 "nbformat_minor": 2
}
